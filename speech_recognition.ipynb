{
  "cells": [
    {
      "cell_type": "markdown",
      "metadata": {
        "id": "tuk1jckZceB8"
      },
      "source": [
        "**import libraries**"
      ]
    },
    {
      "cell_type": "code",
      "execution_count": 1,
      "metadata": {
        "id": "CeZ8A07-zIxo"
      },
      "outputs": [],
      "source": [
        "import os\n",
        "import json\n",
        "import numpy as np\n",
        "import pandas as pd\n",
        "import tensorflow as tf\n",
        "from keras.utils import to_categorical\n",
        "from sklearn.model_selection import train_test_split\n",
        "from sklearn import utils\n",
        "from glob import glob"
      ]
    },
    {
      "cell_type": "code",
      "execution_count": 2,
      "metadata": {
        "id": "BDhTxWLY3Fnf"
      },
      "outputs": [],
      "source": [
        "import librosa as lr"
      ]
    },
    {
      "cell_type": "markdown",
      "source": [
        "**labels**"
      ],
      "metadata": {
        "id": "NrmWXFxtBfWc"
      }
    },
    {
      "cell_type": "code",
      "execution_count": 3,
      "metadata": {
        "id": "ZNswjxbTGOMx"
      },
      "outputs": [],
      "source": [
        "labels = ['اوراق', 'ارز', 'سکه', 'بانک', 'طلا', 'نفت', 'مشتقات', 'فلزات', 'صندوق سهامی', 'صندوق درآمد ثابت', 'صندوق مختلط', 'صندوق قابل معامله']"
      ]
    },
    {
      "cell_type": "code",
      "execution_count": 4,
      "metadata": {
        "colab": {
          "base_uri": "https://localhost:8080/"
        },
        "id": "IqC5EiRoGqAb",
        "outputId": "e0f06555-5493-4b42-8d86-f5de1a04f03b"
      },
      "outputs": [
        {
          "output_type": "execute_result",
          "data": {
            "text/plain": [
              "12"
            ]
          },
          "metadata": {},
          "execution_count": 4
        }
      ],
      "source": [
        "len(labels)"
      ]
    },
    {
      "cell_type": "markdown",
      "source": [
        "### **Preprocessing data**"
      ],
      "metadata": {
        "id": "CytbPRmWp4im"
      }
    },
    {
      "cell_type": "markdown",
      "source": [
        "### **Read dataset**"
      ],
      "metadata": {
        "id": "e-3Y671G23g3"
      }
    },
    {
      "cell_type": "markdown",
      "source": [
        "**read data.json**"
      ],
      "metadata": {
        "id": "lZNOwa9Hnu7I"
      }
    },
    {
      "cell_type": "code",
      "source": [
        "!gdown --id 1-322-3NQ84fc2aM2Xg1_LsMf6H8STsZ5"
      ],
      "metadata": {
        "colab": {
          "base_uri": "https://localhost:8080/"
        },
        "id": "VT9DBAIcnoQ7",
        "outputId": "57fc14b5-429b-4f56-c4d0-4abd2c24c871"
      },
      "execution_count": 5,
      "outputs": [
        {
          "output_type": "stream",
          "name": "stdout",
          "text": [
            "/usr/local/lib/python3.7/dist-packages/gdown/cli.py:131: FutureWarning: Option `--id` was deprecated in version 4.3.1 and will be removed in 5.0. You don't need to pass it anymore to use a file ID.\n",
            "  category=FutureWarning,\n",
            "Downloading...\n",
            "From: https://drive.google.com/uc?id=1-322-3NQ84fc2aM2Xg1_LsMf6H8STsZ5\n",
            "To: /content/data.json\n",
            "100% 270M/270M [00:03<00:00, 85.3MB/s]\n"
          ]
        }
      ]
    },
    {
      "cell_type": "code",
      "source": [
        "def load_data(data_path):\n",
        "    with open(data_path, \"r\") as f:\n",
        "        data = json.load(f)\n",
        "\n",
        "    X = np.array(data[\"MFCCs\"])\n",
        "    y = np.array(data[\"labels\"])\n",
        "    return X, y"
      ],
      "metadata": {
        "id": "GCAOmldr1zHZ"
      },
      "execution_count": 6,
      "outputs": []
    },
    {
      "cell_type": "code",
      "source": [
        "X, y = load_data('data.json')"
      ],
      "metadata": {
        "id": "e6d7ZJSO3I2b"
      },
      "execution_count": 7,
      "outputs": []
    },
    {
      "cell_type": "code",
      "source": [
        "X.shape"
      ],
      "metadata": {
        "colab": {
          "base_uri": "https://localhost:8080/"
        },
        "id": "oyu0VB59wivh",
        "outputId": "6c46746a-489d-4745-a9ed-866a85b60730"
      },
      "execution_count": 8,
      "outputs": [
        {
          "output_type": "execute_result",
          "data": {
            "text/plain": [
              "(2880, 20, 300)"
            ]
          },
          "metadata": {},
          "execution_count": 8
        }
      ]
    },
    {
      "cell_type": "code",
      "source": [
        "\n",
        "y[0:240]"
      ],
      "metadata": {
        "colab": {
          "base_uri": "https://localhost:8080/"
        },
        "id": "v_vYLquJ3RUl",
        "outputId": "6902de20-1aa1-4933-91e2-9afb2587542f"
      },
      "execution_count": 9,
      "outputs": [
        {
          "output_type": "execute_result",
          "data": {
            "text/plain": [
              "array(['اوراق', 'اوراق', 'اوراق', 'اوراق', 'اوراق', 'اوراق', 'اوراق',\n",
              "       'اوراق', 'اوراق', 'اوراق', 'اوراق', 'اوراق', 'اوراق', 'اوراق',\n",
              "       'اوراق', 'اوراق', 'اوراق', 'اوراق', 'اوراق', 'اوراق', 'اوراق',\n",
              "       'اوراق', 'اوراق', 'اوراق', 'اوراق', 'اوراق', 'اوراق', 'اوراق',\n",
              "       'اوراق', 'اوراق', 'اوراق', 'اوراق', 'اوراق', 'اوراق', 'اوراق',\n",
              "       'اوراق', 'اوراق', 'اوراق', 'اوراق', 'اوراق', 'اوراق', 'اوراق',\n",
              "       'اوراق', 'اوراق', 'اوراق', 'اوراق', 'اوراق', 'اوراق', 'اوراق',\n",
              "       'اوراق', 'اوراق', 'اوراق', 'اوراق', 'اوراق', 'اوراق', 'اوراق',\n",
              "       'اوراق', 'اوراق', 'اوراق', 'اوراق', 'اوراق', 'اوراق', 'اوراق',\n",
              "       'اوراق', 'اوراق', 'اوراق', 'اوراق', 'اوراق', 'اوراق', 'اوراق',\n",
              "       'اوراق', 'اوراق', 'اوراق', 'اوراق', 'اوراق', 'اوراق', 'اوراق',\n",
              "       'اوراق', 'اوراق', 'اوراق', 'اوراق', 'اوراق', 'اوراق', 'اوراق',\n",
              "       'اوراق', 'اوراق', 'اوراق', 'اوراق', 'اوراق', 'اوراق', 'اوراق',\n",
              "       'اوراق', 'اوراق', 'اوراق', 'اوراق', 'اوراق', 'اوراق', 'اوراق',\n",
              "       'اوراق', 'اوراق', 'اوراق', 'اوراق', 'اوراق', 'اوراق', 'اوراق',\n",
              "       'اوراق', 'اوراق', 'اوراق', 'اوراق', 'اوراق', 'اوراق', 'اوراق',\n",
              "       'اوراق', 'اوراق', 'اوراق', 'اوراق', 'اوراق', 'اوراق', 'اوراق',\n",
              "       'اوراق', 'اوراق', 'اوراق', 'اوراق', 'اوراق', 'اوراق', 'اوراق',\n",
              "       'اوراق', 'اوراق', 'اوراق', 'اوراق', 'اوراق', 'اوراق', 'اوراق',\n",
              "       'اوراق', 'اوراق', 'اوراق', 'اوراق', 'اوراق', 'اوراق', 'اوراق',\n",
              "       'اوراق', 'اوراق', 'اوراق', 'اوراق', 'اوراق', 'اوراق', 'اوراق',\n",
              "       'اوراق', 'اوراق', 'اوراق', 'اوراق', 'اوراق', 'اوراق', 'اوراق',\n",
              "       'اوراق', 'اوراق', 'اوراق', 'اوراق', 'اوراق', 'اوراق', 'اوراق',\n",
              "       'اوراق', 'اوراق', 'اوراق', 'اوراق', 'اوراق', 'اوراق', 'اوراق',\n",
              "       'اوراق', 'اوراق', 'اوراق', 'اوراق', 'اوراق', 'اوراق', 'اوراق',\n",
              "       'اوراق', 'اوراق', 'اوراق', 'اوراق', 'اوراق', 'اوراق', 'اوراق',\n",
              "       'اوراق', 'اوراق', 'اوراق', 'اوراق', 'اوراق', 'اوراق', 'اوراق',\n",
              "       'اوراق', 'اوراق', 'اوراق', 'اوراق', 'اوراق', 'اوراق', 'اوراق',\n",
              "       'اوراق', 'اوراق', 'اوراق', 'اوراق', 'اوراق', 'اوراق', 'اوراق',\n",
              "       'اوراق', 'اوراق', 'اوراق', 'اوراق', 'اوراق', 'اوراق', 'اوراق',\n",
              "       'اوراق', 'اوراق', 'اوراق', 'اوراق', 'اوراق', 'اوراق', 'اوراق',\n",
              "       'اوراق', 'اوراق', 'اوراق', 'اوراق', 'اوراق', 'اوراق', 'اوراق',\n",
              "       'اوراق', 'اوراق', 'اوراق', 'اوراق', 'اوراق', 'اوراق', 'اوراق',\n",
              "       'اوراق', 'اوراق', 'اوراق', 'اوراق', 'اوراق', 'اوراق', 'اوراق',\n",
              "       'اوراق', 'اوراق'], dtype='<U17')"
            ]
          },
          "metadata": {},
          "execution_count": 9
        }
      ]
    },
    {
      "cell_type": "code",
      "source": [
        "categories = pd.get_dummies(y).columns.values"
      ],
      "metadata": {
        "id": "P8qf4WhJwtMi"
      },
      "execution_count": 10,
      "outputs": []
    },
    {
      "cell_type": "code",
      "source": [
        "categories"
      ],
      "metadata": {
        "colab": {
          "base_uri": "https://localhost:8080/"
        },
        "id": "DKhHXX6Nwyvg",
        "outputId": "ed25bdf6-c657-4c1e-c8f9-2cf2624fcbe9"
      },
      "execution_count": 11,
      "outputs": [
        {
          "output_type": "execute_result",
          "data": {
            "text/plain": [
              "array(['ارز', 'اوراق', 'بانک', 'سکه', 'صندوق درآمد ثابت', 'صندوق سهامی',\n",
              "       'صندوق قابل معامله', 'صندوق مختلط', 'طلا', 'فلزات', 'مشتقات',\n",
              "       'نفت'], dtype=object)"
            ]
          },
          "metadata": {},
          "execution_count": 11
        }
      ]
    },
    {
      "cell_type": "code",
      "source": [
        "y_one_hot = pd.get_dummies(y).values"
      ],
      "metadata": {
        "id": "PYIkCDjL_90q"
      },
      "execution_count": 12,
      "outputs": []
    },
    {
      "cell_type": "code",
      "source": [
        "y_one_hot"
      ],
      "metadata": {
        "colab": {
          "base_uri": "https://localhost:8080/"
        },
        "id": "Vs8J2RP7AHaz",
        "outputId": "9cde7580-a3f3-45dc-e3dd-798aa4a52c54"
      },
      "execution_count": 13,
      "outputs": [
        {
          "output_type": "execute_result",
          "data": {
            "text/plain": [
              "array([[0, 1, 0, ..., 0, 0, 0],\n",
              "       [0, 1, 0, ..., 0, 0, 0],\n",
              "       [0, 1, 0, ..., 0, 0, 0],\n",
              "       ...,\n",
              "       [0, 0, 0, ..., 0, 0, 0],\n",
              "       [0, 0, 0, ..., 0, 0, 0],\n",
              "       [0, 0, 0, ..., 0, 0, 0]], dtype=uint8)"
            ]
          },
          "metadata": {},
          "execution_count": 13
        }
      ]
    },
    {
      "cell_type": "code",
      "source": [
        "len(X), len(y_one_hot)"
      ],
      "metadata": {
        "colab": {
          "base_uri": "https://localhost:8080/"
        },
        "id": "_FhFBE1RDHy6",
        "outputId": "ca1615d8-f1b9-450a-8fbf-2bfecc8994f1"
      },
      "execution_count": 14,
      "outputs": [
        {
          "output_type": "execute_result",
          "data": {
            "text/plain": [
              "(2880, 2880)"
            ]
          },
          "metadata": {},
          "execution_count": 14
        }
      ]
    },
    {
      "cell_type": "code",
      "source": [
        "def get_train_test(X, y_one_hot):\n",
        "  X_train = []\n",
        "  X_test = []\n",
        "  Y_train = []\n",
        "  Y_test = []\n",
        "  counter = 0\n",
        "  for i in range(len(X)):\n",
        "    if (i+1) % 40 == 0:\n",
        "      x_train, x_test, y_train, y_test = train_test_split(X[counter*40:(counter*40)+40], y_one_hot[counter*40:(counter*40)+40], test_size=0.3, shuffle=True, random_state=10)\n",
        "      \n",
        "      X_train += x_train.tolist()\n",
        "      X_test += x_test.tolist()\n",
        "      Y_train += y_train.tolist()\n",
        "      Y_test += y_test.tolist()  \n",
        "\n",
        "      counter += 1\n",
        "  \n",
        "  return np.array(X_train), np.array(X_test), np.array(Y_train), np.array(Y_test)"
      ],
      "metadata": {
        "id": "XUPGk3KZyzr9"
      },
      "execution_count": 15,
      "outputs": []
    },
    {
      "cell_type": "code",
      "source": [
        "X_train, X_test, y_train, y_test = get_train_test(X, y_one_hot)"
      ],
      "metadata": {
        "id": "4Gi_VM7iZq1d"
      },
      "execution_count": 16,
      "outputs": []
    },
    {
      "cell_type": "code",
      "source": [
        "print(X_train.shape)\n",
        "print(X_test.shape)\n",
        "print(y_train.shape)\n",
        "print(y_test.shape)"
      ],
      "metadata": {
        "colab": {
          "base_uri": "https://localhost:8080/"
        },
        "id": "wgZLSu2N6xwX",
        "outputId": "3ffe17a7-931f-4223-8374-65dec936e1eb"
      },
      "execution_count": null,
      "outputs": [
        {
          "output_type": "stream",
          "name": "stdout",
          "text": [
            "(2016, 20, 300)\n",
            "(864, 20, 300)\n",
            "(2016, 12)\n",
            "(864, 12)\n"
          ]
        }
      ]
    },
    {
      "cell_type": "markdown",
      "source": [
        "**shuffle dataset**"
      ],
      "metadata": {
        "id": "3_NoHzKUGugN"
      }
    },
    {
      "cell_type": "code",
      "source": [
        "X_train, y_train = utils.shuffle(X_train, y_train)\n",
        "X_test, y_test = utils.shuffle(X_test, y_test)"
      ],
      "metadata": {
        "id": "fqtslTfJGt_T"
      },
      "execution_count": null,
      "outputs": []
    },
    {
      "cell_type": "markdown",
      "source": [
        "**add channel**"
      ],
      "metadata": {
        "id": "HrmapfsWroWJ"
      }
    },
    {
      "cell_type": "code",
      "source": [
        "X_train = X_train.reshape(X_train.shape[0], X_train.shape[1], X_train.shape[2], 1)\n",
        "X_test = X_test.reshape(X_test.shape[0], X_test.shape[1], X_test.shape[2], 1)"
      ],
      "metadata": {
        "id": "xlvi9AJvwqXD"
      },
      "execution_count": null,
      "outputs": []
    },
    {
      "cell_type": "code",
      "source": [
        "print(X_train.shape)\n",
        "print(X_test.shape)"
      ],
      "metadata": {
        "id": "jH5Vvzz3gxmD",
        "colab": {
          "base_uri": "https://localhost:8080/"
        },
        "outputId": "60b21a49-b543-4ce2-8124-f6e8d1bdfe20"
      },
      "execution_count": null,
      "outputs": [
        {
          "output_type": "stream",
          "name": "stdout",
          "text": [
            "(2016, 20, 300, 1)\n",
            "(864, 20, 300, 1)\n"
          ]
        }
      ]
    },
    {
      "cell_type": "markdown",
      "source": [
        "### **Build Model**"
      ],
      "metadata": {
        "id": "Gg2ndIEA5teD"
      }
    },
    {
      "cell_type": "code",
      "source": [
        "model = tf.keras.models.Sequential()\n",
        "model.add(tf.keras.layers.Conv2D(64, kernel_size=(2, 2), activation='relu', input_shape=(X_train.shape[1], X_train.shape[2], X_train.shape[3])))\n",
        "model.add(tf.keras.layers.MaxPooling2D((2, 2), padding='same'))\n",
        "model.add(tf.keras.layers.Conv2D(32, kernel_size=(2, 2), activation='relu', kernel_regularizer=tf.keras.regularizers.l2(0.001)))\n",
        "model.add(tf.keras.layers.Dropout(0.2))\n",
        "model.add(tf.keras.layers.MaxPooling2D((2, 2), padding='same'))\n",
        "model.add(tf.keras.layers.Conv2D(32, kernel_size=(2, 2), activation='relu', kernel_regularizer=tf.keras.regularizers.l2(0.001)))\n",
        "model.add(tf.keras.layers.Dropout(0.2))\n",
        "model.add(tf.keras.layers.MaxPooling2D((2, 2), padding='same'))\n",
        "model.add(tf.keras.layers.Conv2D(128, kernel_size=(2, 2), activation='relu', kernel_regularizer=tf.keras.regularizers.l2(0.001)))\n",
        "model.add(tf.keras.layers.Dropout(0.2))\n",
        "model.add(tf.keras.layers.MaxPooling2D((2, 2), padding='same'))\n",
        "model.add(tf.keras.layers.Dropout(0.2))\n",
        "model.add(tf.keras.layers.Flatten())\n",
        "model.add(tf.keras.layers.Dense(128, activation='relu'))\n",
        "model.add(tf.keras.layers.Dropout(0.3))\n",
        "model.add(tf.keras.layers.Dense(64, activation='relu'))\n",
        "model.add(tf.keras.layers.Dropout(0.5))\n",
        "model.add(tf.keras.layers.Dense(len(categories), activation='softmax'))"
      ],
      "metadata": {
        "id": "nwYdnMQNg300"
      },
      "execution_count": null,
      "outputs": []
    },
    {
      "cell_type": "code",
      "source": [
        "model.summary()"
      ],
      "metadata": {
        "id": "lRdXTKeFhGYy",
        "colab": {
          "base_uri": "https://localhost:8080/"
        },
        "outputId": "8fae21fe-e09a-419f-ec4b-7a5abb891468"
      },
      "execution_count": null,
      "outputs": [
        {
          "output_type": "stream",
          "name": "stdout",
          "text": [
            "Model: \"sequential_6\"\n",
            "_________________________________________________________________\n",
            " Layer (type)                Output Shape              Param #   \n",
            "=================================================================\n",
            " conv2d_36 (Conv2D)          (None, 19, 299, 64)       320       \n",
            "                                                                 \n",
            " max_pooling2d_21 (MaxPoolin  (None, 10, 150, 64)      0         \n",
            " g2D)                                                            \n",
            "                                                                 \n",
            " conv2d_37 (Conv2D)          (None, 9, 149, 32)        8224      \n",
            "                                                                 \n",
            " dropout_30 (Dropout)        (None, 9, 149, 32)        0         \n",
            "                                                                 \n",
            " max_pooling2d_22 (MaxPoolin  (None, 5, 75, 32)        0         \n",
            " g2D)                                                            \n",
            "                                                                 \n",
            " conv2d_38 (Conv2D)          (None, 4, 74, 32)         4128      \n",
            "                                                                 \n",
            " dropout_31 (Dropout)        (None, 4, 74, 32)         0         \n",
            "                                                                 \n",
            " max_pooling2d_23 (MaxPoolin  (None, 2, 37, 32)        0         \n",
            " g2D)                                                            \n",
            "                                                                 \n",
            " conv2d_39 (Conv2D)          (None, 1, 36, 128)        16512     \n",
            "                                                                 \n",
            " dropout_32 (Dropout)        (None, 1, 36, 128)        0         \n",
            "                                                                 \n",
            " max_pooling2d_24 (MaxPoolin  (None, 1, 18, 128)       0         \n",
            " g2D)                                                            \n",
            "                                                                 \n",
            " dropout_33 (Dropout)        (None, 1, 18, 128)        0         \n",
            "                                                                 \n",
            " flatten_6 (Flatten)         (None, 2304)              0         \n",
            "                                                                 \n",
            " dense_15 (Dense)            (None, 128)               295040    \n",
            "                                                                 \n",
            " dropout_34 (Dropout)        (None, 128)               0         \n",
            "                                                                 \n",
            " dense_16 (Dense)            (None, 64)                8256      \n",
            "                                                                 \n",
            " dropout_35 (Dropout)        (None, 64)                0         \n",
            "                                                                 \n",
            " dense_17 (Dense)            (None, 12)                780       \n",
            "                                                                 \n",
            "=================================================================\n",
            "Total params: 333,260\n",
            "Trainable params: 333,260\n",
            "Non-trainable params: 0\n",
            "_________________________________________________________________\n"
          ]
        }
      ]
    },
    {
      "cell_type": "code",
      "source": [
        "model.compile(\n",
        "              optimizer=tf.optimizers.Adam(learning_rate=0.0001),\n",
        "              loss=tf.keras.losses.categorical_crossentropy,\n",
        "              metrics=['accuracy'])"
      ],
      "metadata": {
        "id": "Dw0YpnplhKfD"
      },
      "execution_count": null,
      "outputs": []
    },
    {
      "cell_type": "code",
      "source": [
        "earlystop_callback = tf.keras.callbacks.EarlyStopping(monitor=\"accuracy\", min_delta=0.001, patience=10)"
      ],
      "metadata": {
        "id": "sEHCa6b0kRfj"
      },
      "execution_count": null,
      "outputs": []
    },
    {
      "cell_type": "code",
      "source": [
        "history = model.fit(\n",
        "              X_train,\n",
        "              y_train,\n",
        "              batch_size=32,\n",
        "              epochs=300,\n",
        "              verbose=1,\n",
        "              validation_data=(X_test, y_test),\n",
        "              callbacks=[earlystop_callback]\n",
        "              )"
      ],
      "metadata": {
        "colab": {
          "base_uri": "https://localhost:8080/"
        },
        "id": "xEENQSywhPpE",
        "outputId": "3465d208-000d-419c-a644-6038263baa26"
      },
      "execution_count": null,
      "outputs": [
        {
          "output_type": "stream",
          "name": "stdout",
          "text": [
            "Epoch 1/300\n",
            "63/63 [==============================] - 2s 15ms/step - loss: 5.3349 - accuracy: 0.0833 - val_loss: 2.5972 - val_accuracy: 0.0961\n",
            "Epoch 2/300\n",
            "63/63 [==============================] - 1s 11ms/step - loss: 2.8905 - accuracy: 0.1037 - val_loss: 2.5893 - val_accuracy: 0.1204\n",
            "Epoch 3/300\n",
            "63/63 [==============================] - 1s 11ms/step - loss: 2.7397 - accuracy: 0.0873 - val_loss: 2.5874 - val_accuracy: 0.1146\n",
            "Epoch 4/300\n",
            "63/63 [==============================] - 1s 12ms/step - loss: 2.6645 - accuracy: 0.0913 - val_loss: 2.5878 - val_accuracy: 0.1204\n",
            "Epoch 5/300\n",
            "63/63 [==============================] - 1s 12ms/step - loss: 2.6325 - accuracy: 0.1116 - val_loss: 2.5795 - val_accuracy: 0.1458\n",
            "Epoch 6/300\n",
            "63/63 [==============================] - 1s 12ms/step - loss: 2.6059 - accuracy: 0.1096 - val_loss: 2.5735 - val_accuracy: 0.1412\n",
            "Epoch 7/300\n",
            "63/63 [==============================] - 1s 12ms/step - loss: 2.5918 - accuracy: 0.1101 - val_loss: 2.5623 - val_accuracy: 0.1505\n",
            "Epoch 8/300\n",
            "63/63 [==============================] - 1s 12ms/step - loss: 2.5914 - accuracy: 0.1047 - val_loss: 2.5638 - val_accuracy: 0.1597\n",
            "Epoch 9/300\n",
            "63/63 [==============================] - 1s 12ms/step - loss: 2.5581 - accuracy: 0.1334 - val_loss: 2.5512 - val_accuracy: 0.1505\n",
            "Epoch 10/300\n",
            "63/63 [==============================] - 1s 11ms/step - loss: 2.5450 - accuracy: 0.1205 - val_loss: 2.5367 - val_accuracy: 0.1597\n",
            "Epoch 11/300\n",
            "63/63 [==============================] - 1s 11ms/step - loss: 2.5444 - accuracy: 0.1190 - val_loss: 2.5194 - val_accuracy: 0.1667\n",
            "Epoch 12/300\n",
            "63/63 [==============================] - 1s 11ms/step - loss: 2.5292 - accuracy: 0.1384 - val_loss: 2.5140 - val_accuracy: 0.1794\n",
            "Epoch 13/300\n",
            "63/63 [==============================] - 1s 12ms/step - loss: 2.5193 - accuracy: 0.1151 - val_loss: 2.4969 - val_accuracy: 0.1910\n",
            "Epoch 14/300\n",
            "63/63 [==============================] - 1s 12ms/step - loss: 2.5002 - accuracy: 0.1349 - val_loss: 2.4723 - val_accuracy: 0.1921\n",
            "Epoch 15/300\n",
            "63/63 [==============================] - 1s 12ms/step - loss: 2.4808 - accuracy: 0.1399 - val_loss: 2.4664 - val_accuracy: 0.2014\n",
            "Epoch 16/300\n",
            "63/63 [==============================] - 1s 12ms/step - loss: 2.4542 - accuracy: 0.1498 - val_loss: 2.4520 - val_accuracy: 0.2002\n",
            "Epoch 17/300\n",
            "63/63 [==============================] - 1s 11ms/step - loss: 2.4224 - accuracy: 0.1597 - val_loss: 2.4175 - val_accuracy: 0.2095\n",
            "Epoch 18/300\n",
            "63/63 [==============================] - 1s 12ms/step - loss: 2.4275 - accuracy: 0.1443 - val_loss: 2.3922 - val_accuracy: 0.2118\n",
            "Epoch 19/300\n",
            "63/63 [==============================] - 1s 11ms/step - loss: 2.3854 - accuracy: 0.1815 - val_loss: 2.3839 - val_accuracy: 0.2222\n",
            "Epoch 20/300\n",
            "63/63 [==============================] - 1s 11ms/step - loss: 2.3953 - accuracy: 0.1706 - val_loss: 2.3741 - val_accuracy: 0.2407\n",
            "Epoch 21/300\n",
            "63/63 [==============================] - 1s 12ms/step - loss: 2.3627 - accuracy: 0.1811 - val_loss: 2.3380 - val_accuracy: 0.2581\n",
            "Epoch 22/300\n",
            "63/63 [==============================] - 1s 12ms/step - loss: 2.3407 - accuracy: 0.1885 - val_loss: 2.3224 - val_accuracy: 0.2535\n",
            "Epoch 23/300\n",
            "63/63 [==============================] - 1s 11ms/step - loss: 2.3251 - accuracy: 0.1880 - val_loss: 2.3104 - val_accuracy: 0.2836\n",
            "Epoch 24/300\n",
            "63/63 [==============================] - 1s 12ms/step - loss: 2.3093 - accuracy: 0.1920 - val_loss: 2.2768 - val_accuracy: 0.2870\n",
            "Epoch 25/300\n",
            "63/63 [==============================] - 1s 11ms/step - loss: 2.2762 - accuracy: 0.2108 - val_loss: 2.2741 - val_accuracy: 0.3252\n",
            "Epoch 26/300\n",
            "63/63 [==============================] - 1s 12ms/step - loss: 2.2486 - accuracy: 0.2257 - val_loss: 2.2463 - val_accuracy: 0.3148\n",
            "Epoch 27/300\n",
            "63/63 [==============================] - 1s 12ms/step - loss: 2.2490 - accuracy: 0.2113 - val_loss: 2.2470 - val_accuracy: 0.3472\n",
            "Epoch 28/300\n",
            "63/63 [==============================] - 1s 11ms/step - loss: 2.2070 - accuracy: 0.2277 - val_loss: 2.1988 - val_accuracy: 0.3646\n",
            "Epoch 29/300\n",
            "63/63 [==============================] - 1s 12ms/step - loss: 2.1918 - accuracy: 0.2401 - val_loss: 2.1902 - val_accuracy: 0.3796\n",
            "Epoch 30/300\n",
            "63/63 [==============================] - 1s 12ms/step - loss: 2.1583 - accuracy: 0.2589 - val_loss: 2.1361 - val_accuracy: 0.3935\n",
            "Epoch 31/300\n",
            "63/63 [==============================] - 1s 11ms/step - loss: 2.1440 - accuracy: 0.2450 - val_loss: 2.1335 - val_accuracy: 0.4028\n",
            "Epoch 32/300\n",
            "63/63 [==============================] - 1s 11ms/step - loss: 2.1202 - accuracy: 0.2614 - val_loss: 2.1320 - val_accuracy: 0.4259\n",
            "Epoch 33/300\n",
            "63/63 [==============================] - 1s 11ms/step - loss: 2.1029 - accuracy: 0.2778 - val_loss: 2.0836 - val_accuracy: 0.4456\n",
            "Epoch 34/300\n",
            "63/63 [==============================] - 1s 12ms/step - loss: 2.0635 - accuracy: 0.2976 - val_loss: 2.0368 - val_accuracy: 0.4155\n",
            "Epoch 35/300\n",
            "63/63 [==============================] - 1s 11ms/step - loss: 2.0488 - accuracy: 0.2857 - val_loss: 2.0237 - val_accuracy: 0.4583\n",
            "Epoch 36/300\n",
            "63/63 [==============================] - 1s 12ms/step - loss: 2.0279 - accuracy: 0.3036 - val_loss: 1.9867 - val_accuracy: 0.4329\n",
            "Epoch 37/300\n",
            "63/63 [==============================] - 1s 11ms/step - loss: 1.9650 - accuracy: 0.3249 - val_loss: 1.9623 - val_accuracy: 0.4838\n",
            "Epoch 38/300\n",
            "63/63 [==============================] - 1s 11ms/step - loss: 1.9749 - accuracy: 0.3140 - val_loss: 1.9239 - val_accuracy: 0.4977\n",
            "Epoch 39/300\n",
            "63/63 [==============================] - 1s 11ms/step - loss: 1.9302 - accuracy: 0.3180 - val_loss: 1.9002 - val_accuracy: 0.4861\n",
            "Epoch 40/300\n",
            "63/63 [==============================] - 1s 11ms/step - loss: 1.9122 - accuracy: 0.3383 - val_loss: 1.9020 - val_accuracy: 0.4792\n",
            "Epoch 41/300\n",
            "63/63 [==============================] - 1s 11ms/step - loss: 1.9008 - accuracy: 0.3482 - val_loss: 1.8554 - val_accuracy: 0.5243\n",
            "Epoch 42/300\n",
            "63/63 [==============================] - 1s 11ms/step - loss: 1.8823 - accuracy: 0.3457 - val_loss: 1.8421 - val_accuracy: 0.5127\n",
            "Epoch 43/300\n",
            "63/63 [==============================] - 1s 12ms/step - loss: 1.8475 - accuracy: 0.3725 - val_loss: 1.8228 - val_accuracy: 0.5498\n",
            "Epoch 44/300\n",
            "63/63 [==============================] - 1s 12ms/step - loss: 1.8193 - accuracy: 0.3740 - val_loss: 1.7683 - val_accuracy: 0.5498\n",
            "Epoch 45/300\n",
            "63/63 [==============================] - 1s 16ms/step - loss: 1.8170 - accuracy: 0.3829 - val_loss: 1.7596 - val_accuracy: 0.5799\n",
            "Epoch 46/300\n",
            "63/63 [==============================] - 1s 13ms/step - loss: 1.7694 - accuracy: 0.3800 - val_loss: 1.7403 - val_accuracy: 0.5706\n",
            "Epoch 47/300\n",
            "63/63 [==============================] - 1s 12ms/step - loss: 1.7497 - accuracy: 0.3988 - val_loss: 1.7046 - val_accuracy: 0.5822\n",
            "Epoch 48/300\n",
            "63/63 [==============================] - 1s 12ms/step - loss: 1.7246 - accuracy: 0.4172 - val_loss: 1.6874 - val_accuracy: 0.5660\n",
            "Epoch 49/300\n",
            "63/63 [==============================] - 1s 12ms/step - loss: 1.6855 - accuracy: 0.4152 - val_loss: 1.6472 - val_accuracy: 0.5972\n",
            "Epoch 50/300\n",
            "63/63 [==============================] - 1s 11ms/step - loss: 1.7063 - accuracy: 0.4216 - val_loss: 1.6629 - val_accuracy: 0.5891\n",
            "Epoch 51/300\n",
            "63/63 [==============================] - 1s 12ms/step - loss: 1.6547 - accuracy: 0.4301 - val_loss: 1.5858 - val_accuracy: 0.6215\n",
            "Epoch 52/300\n",
            "63/63 [==============================] - 1s 11ms/step - loss: 1.6524 - accuracy: 0.4345 - val_loss: 1.6117 - val_accuracy: 0.6273\n",
            "Epoch 53/300\n",
            "63/63 [==============================] - 1s 11ms/step - loss: 1.6193 - accuracy: 0.4593 - val_loss: 1.5472 - val_accuracy: 0.6227\n",
            "Epoch 54/300\n",
            "63/63 [==============================] - 1s 11ms/step - loss: 1.5945 - accuracy: 0.4529 - val_loss: 1.5349 - val_accuracy: 0.6632\n",
            "Epoch 55/300\n",
            "63/63 [==============================] - 1s 12ms/step - loss: 1.5660 - accuracy: 0.4663 - val_loss: 1.5135 - val_accuracy: 0.6424\n",
            "Epoch 56/300\n",
            "63/63 [==============================] - 1s 11ms/step - loss: 1.5371 - accuracy: 0.4673 - val_loss: 1.4926 - val_accuracy: 0.6632\n",
            "Epoch 57/300\n",
            "63/63 [==============================] - 1s 11ms/step - loss: 1.5414 - accuracy: 0.4896 - val_loss: 1.4657 - val_accuracy: 0.6632\n",
            "Epoch 58/300\n",
            "63/63 [==============================] - 1s 11ms/step - loss: 1.4830 - accuracy: 0.4940 - val_loss: 1.4284 - val_accuracy: 0.6771\n",
            "Epoch 59/300\n",
            "63/63 [==============================] - 1s 11ms/step - loss: 1.4559 - accuracy: 0.5060 - val_loss: 1.3986 - val_accuracy: 0.6701\n",
            "Epoch 60/300\n",
            "63/63 [==============================] - 1s 11ms/step - loss: 1.4695 - accuracy: 0.5099 - val_loss: 1.4096 - val_accuracy: 0.6644\n",
            "Epoch 61/300\n",
            "63/63 [==============================] - 1s 12ms/step - loss: 1.4311 - accuracy: 0.5169 - val_loss: 1.3740 - val_accuracy: 0.6829\n",
            "Epoch 62/300\n",
            "63/63 [==============================] - 1s 11ms/step - loss: 1.4081 - accuracy: 0.5213 - val_loss: 1.3282 - val_accuracy: 0.6759\n",
            "Epoch 63/300\n",
            "63/63 [==============================] - 1s 11ms/step - loss: 1.3692 - accuracy: 0.5432 - val_loss: 1.3190 - val_accuracy: 0.6840\n",
            "Epoch 64/300\n",
            "63/63 [==============================] - 1s 11ms/step - loss: 1.3700 - accuracy: 0.5273 - val_loss: 1.3176 - val_accuracy: 0.7164\n",
            "Epoch 65/300\n",
            "63/63 [==============================] - 1s 12ms/step - loss: 1.3417 - accuracy: 0.5491 - val_loss: 1.2831 - val_accuracy: 0.7118\n",
            "Epoch 66/300\n",
            "63/63 [==============================] - 1s 11ms/step - loss: 1.3105 - accuracy: 0.5605 - val_loss: 1.2656 - val_accuracy: 0.7153\n",
            "Epoch 67/300\n",
            "63/63 [==============================] - 1s 11ms/step - loss: 1.3383 - accuracy: 0.5590 - val_loss: 1.2564 - val_accuracy: 0.7106\n",
            "Epoch 68/300\n",
            "63/63 [==============================] - 1s 12ms/step - loss: 1.3031 - accuracy: 0.5595 - val_loss: 1.2419 - val_accuracy: 0.7049\n",
            "Epoch 69/300\n",
            "63/63 [==============================] - 1s 11ms/step - loss: 1.2655 - accuracy: 0.5863 - val_loss: 1.2223 - val_accuracy: 0.7153\n",
            "Epoch 70/300\n",
            "63/63 [==============================] - 1s 11ms/step - loss: 1.2999 - accuracy: 0.5675 - val_loss: 1.2015 - val_accuracy: 0.7234\n",
            "Epoch 71/300\n",
            "63/63 [==============================] - 1s 11ms/step - loss: 1.2278 - accuracy: 0.5918 - val_loss: 1.1718 - val_accuracy: 0.7222\n",
            "Epoch 72/300\n",
            "63/63 [==============================] - 1s 11ms/step - loss: 1.2314 - accuracy: 0.5873 - val_loss: 1.1514 - val_accuracy: 0.7384\n",
            "Epoch 73/300\n",
            "63/63 [==============================] - 1s 11ms/step - loss: 1.2166 - accuracy: 0.5868 - val_loss: 1.1517 - val_accuracy: 0.7442\n",
            "Epoch 74/300\n",
            "63/63 [==============================] - 1s 11ms/step - loss: 1.1805 - accuracy: 0.6146 - val_loss: 1.1371 - val_accuracy: 0.7593\n",
            "Epoch 75/300\n",
            "63/63 [==============================] - 1s 11ms/step - loss: 1.1656 - accuracy: 0.6176 - val_loss: 1.1176 - val_accuracy: 0.7535\n",
            "Epoch 76/300\n",
            "63/63 [==============================] - 1s 12ms/step - loss: 1.1493 - accuracy: 0.6285 - val_loss: 1.1193 - val_accuracy: 0.7569\n",
            "Epoch 77/300\n",
            "63/63 [==============================] - 1s 11ms/step - loss: 1.1357 - accuracy: 0.6225 - val_loss: 1.0911 - val_accuracy: 0.7373\n",
            "Epoch 78/300\n",
            "63/63 [==============================] - 1s 12ms/step - loss: 1.1363 - accuracy: 0.6285 - val_loss: 1.0438 - val_accuracy: 0.7546\n",
            "Epoch 79/300\n",
            "63/63 [==============================] - 1s 11ms/step - loss: 1.0741 - accuracy: 0.6533 - val_loss: 1.0314 - val_accuracy: 0.7801\n",
            "Epoch 80/300\n",
            "63/63 [==============================] - 1s 12ms/step - loss: 1.1030 - accuracy: 0.6339 - val_loss: 1.0333 - val_accuracy: 0.7674\n",
            "Epoch 81/300\n",
            "63/63 [==============================] - 1s 11ms/step - loss: 1.0984 - accuracy: 0.6414 - val_loss: 1.0272 - val_accuracy: 0.7639\n",
            "Epoch 82/300\n",
            "63/63 [==============================] - 1s 12ms/step - loss: 1.0742 - accuracy: 0.6443 - val_loss: 1.0051 - val_accuracy: 0.7928\n",
            "Epoch 83/300\n",
            "63/63 [==============================] - 1s 11ms/step - loss: 1.0720 - accuracy: 0.6518 - val_loss: 1.0038 - val_accuracy: 0.7859\n",
            "Epoch 84/300\n",
            "63/63 [==============================] - 1s 12ms/step - loss: 1.0126 - accuracy: 0.6711 - val_loss: 0.9826 - val_accuracy: 0.7928\n",
            "Epoch 85/300\n",
            "63/63 [==============================] - 1s 11ms/step - loss: 1.0286 - accuracy: 0.6662 - val_loss: 0.9946 - val_accuracy: 0.7824\n",
            "Epoch 86/300\n",
            "63/63 [==============================] - 1s 11ms/step - loss: 0.9904 - accuracy: 0.6820 - val_loss: 0.9629 - val_accuracy: 0.7894\n",
            "Epoch 87/300\n",
            "63/63 [==============================] - 1s 12ms/step - loss: 0.9841 - accuracy: 0.6855 - val_loss: 0.9555 - val_accuracy: 0.7998\n",
            "Epoch 88/300\n",
            "63/63 [==============================] - 1s 12ms/step - loss: 0.9610 - accuracy: 0.6969 - val_loss: 0.9319 - val_accuracy: 0.7882\n",
            "Epoch 89/300\n",
            "63/63 [==============================] - 1s 11ms/step - loss: 0.9216 - accuracy: 0.7148 - val_loss: 0.9070 - val_accuracy: 0.7963\n",
            "Epoch 90/300\n",
            "63/63 [==============================] - 1s 11ms/step - loss: 0.9587 - accuracy: 0.7009 - val_loss: 0.8881 - val_accuracy: 0.7975\n",
            "Epoch 91/300\n",
            "63/63 [==============================] - 1s 12ms/step - loss: 0.9248 - accuracy: 0.7128 - val_loss: 0.8988 - val_accuracy: 0.7963\n",
            "Epoch 92/300\n",
            "63/63 [==============================] - 1s 12ms/step - loss: 0.9217 - accuracy: 0.7044 - val_loss: 0.8739 - val_accuracy: 0.7963\n",
            "Epoch 93/300\n",
            "63/63 [==============================] - 1s 11ms/step - loss: 0.9234 - accuracy: 0.7004 - val_loss: 0.8547 - val_accuracy: 0.8079\n",
            "Epoch 94/300\n",
            "63/63 [==============================] - 1s 12ms/step - loss: 0.9127 - accuracy: 0.7242 - val_loss: 0.8700 - val_accuracy: 0.8009\n",
            "Epoch 95/300\n",
            "63/63 [==============================] - 1s 11ms/step - loss: 0.8802 - accuracy: 0.7257 - val_loss: 0.8467 - val_accuracy: 0.8079\n",
            "Epoch 96/300\n",
            "63/63 [==============================] - 1s 11ms/step - loss: 0.8722 - accuracy: 0.7307 - val_loss: 0.8406 - val_accuracy: 0.8137\n",
            "Epoch 97/300\n",
            "63/63 [==============================] - 1s 11ms/step - loss: 0.8897 - accuracy: 0.7178 - val_loss: 0.8592 - val_accuracy: 0.8032\n",
            "Epoch 98/300\n",
            "63/63 [==============================] - 1s 11ms/step - loss: 0.8352 - accuracy: 0.7440 - val_loss: 0.8351 - val_accuracy: 0.7940\n",
            "Epoch 99/300\n",
            "63/63 [==============================] - 1s 12ms/step - loss: 0.8544 - accuracy: 0.7326 - val_loss: 0.8386 - val_accuracy: 0.8090\n",
            "Epoch 100/300\n",
            "63/63 [==============================] - 1s 11ms/step - loss: 0.8506 - accuracy: 0.7361 - val_loss: 0.8113 - val_accuracy: 0.8044\n",
            "Epoch 101/300\n",
            "63/63 [==============================] - 1s 11ms/step - loss: 0.8336 - accuracy: 0.7520 - val_loss: 0.8068 - val_accuracy: 0.8102\n",
            "Epoch 102/300\n",
            "63/63 [==============================] - 1s 12ms/step - loss: 0.8155 - accuracy: 0.7535 - val_loss: 0.8055 - val_accuracy: 0.8137\n",
            "Epoch 103/300\n",
            "63/63 [==============================] - 1s 11ms/step - loss: 0.8029 - accuracy: 0.7584 - val_loss: 0.7845 - val_accuracy: 0.8113\n",
            "Epoch 104/300\n",
            "63/63 [==============================] - 1s 11ms/step - loss: 0.8189 - accuracy: 0.7525 - val_loss: 0.7777 - val_accuracy: 0.8264\n",
            "Epoch 105/300\n",
            "63/63 [==============================] - 1s 11ms/step - loss: 0.8195 - accuracy: 0.7411 - val_loss: 0.7962 - val_accuracy: 0.8287\n",
            "Epoch 106/300\n",
            "63/63 [==============================] - 1s 12ms/step - loss: 0.7410 - accuracy: 0.7728 - val_loss: 0.7589 - val_accuracy: 0.8264\n",
            "Epoch 107/300\n",
            "63/63 [==============================] - 1s 12ms/step - loss: 0.7734 - accuracy: 0.7639 - val_loss: 0.7591 - val_accuracy: 0.8241\n",
            "Epoch 108/300\n",
            "63/63 [==============================] - 1s 12ms/step - loss: 0.7586 - accuracy: 0.7728 - val_loss: 0.7501 - val_accuracy: 0.8264\n",
            "Epoch 109/300\n",
            "63/63 [==============================] - 1s 12ms/step - loss: 0.7579 - accuracy: 0.7644 - val_loss: 0.7382 - val_accuracy: 0.8264\n",
            "Epoch 110/300\n",
            "63/63 [==============================] - 1s 11ms/step - loss: 0.7263 - accuracy: 0.7812 - val_loss: 0.7217 - val_accuracy: 0.8252\n",
            "Epoch 111/300\n",
            "63/63 [==============================] - 1s 12ms/step - loss: 0.7590 - accuracy: 0.7664 - val_loss: 0.7325 - val_accuracy: 0.8264\n",
            "Epoch 112/300\n",
            "63/63 [==============================] - 1s 12ms/step - loss: 0.7230 - accuracy: 0.7847 - val_loss: 0.7516 - val_accuracy: 0.8218\n",
            "Epoch 113/300\n",
            "63/63 [==============================] - 1s 11ms/step - loss: 0.7244 - accuracy: 0.7773 - val_loss: 0.7149 - val_accuracy: 0.8322\n",
            "Epoch 114/300\n",
            "63/63 [==============================] - 1s 11ms/step - loss: 0.6974 - accuracy: 0.7996 - val_loss: 0.7115 - val_accuracy: 0.8426\n",
            "Epoch 115/300\n",
            "63/63 [==============================] - 1s 12ms/step - loss: 0.6845 - accuracy: 0.7991 - val_loss: 0.6966 - val_accuracy: 0.8414\n",
            "Epoch 116/300\n",
            "63/63 [==============================] - 1s 12ms/step - loss: 0.6717 - accuracy: 0.7902 - val_loss: 0.6987 - val_accuracy: 0.8333\n",
            "Epoch 117/300\n",
            "63/63 [==============================] - 1s 12ms/step - loss: 0.6891 - accuracy: 0.7927 - val_loss: 0.7055 - val_accuracy: 0.8391\n",
            "Epoch 118/300\n",
            "63/63 [==============================] - 1s 11ms/step - loss: 0.7223 - accuracy: 0.7956 - val_loss: 0.7161 - val_accuracy: 0.8391\n",
            "Epoch 119/300\n",
            "63/63 [==============================] - 1s 11ms/step - loss: 0.6850 - accuracy: 0.7946 - val_loss: 0.6920 - val_accuracy: 0.8426\n",
            "Epoch 120/300\n",
            "63/63 [==============================] - 1s 11ms/step - loss: 0.6638 - accuracy: 0.8036 - val_loss: 0.6767 - val_accuracy: 0.8391\n",
            "Epoch 121/300\n",
            "63/63 [==============================] - 1s 12ms/step - loss: 0.6685 - accuracy: 0.8145 - val_loss: 0.6800 - val_accuracy: 0.8449\n",
            "Epoch 122/300\n",
            "63/63 [==============================] - 1s 12ms/step - loss: 0.6325 - accuracy: 0.8150 - val_loss: 0.6807 - val_accuracy: 0.8449\n",
            "Epoch 123/300\n",
            "63/63 [==============================] - 1s 12ms/step - loss: 0.6589 - accuracy: 0.8075 - val_loss: 0.6848 - val_accuracy: 0.8449\n",
            "Epoch 124/300\n",
            "63/63 [==============================] - 1s 11ms/step - loss: 0.5976 - accuracy: 0.8309 - val_loss: 0.6575 - val_accuracy: 0.8438\n",
            "Epoch 125/300\n",
            "63/63 [==============================] - 1s 11ms/step - loss: 0.6132 - accuracy: 0.8194 - val_loss: 0.6606 - val_accuracy: 0.8438\n",
            "Epoch 126/300\n",
            "63/63 [==============================] - 1s 11ms/step - loss: 0.6127 - accuracy: 0.8279 - val_loss: 0.6523 - val_accuracy: 0.8519\n",
            "Epoch 127/300\n",
            "63/63 [==============================] - 1s 12ms/step - loss: 0.5971 - accuracy: 0.8289 - val_loss: 0.6510 - val_accuracy: 0.8472\n",
            "Epoch 128/300\n",
            "63/63 [==============================] - 1s 11ms/step - loss: 0.6143 - accuracy: 0.8299 - val_loss: 0.6368 - val_accuracy: 0.8438\n",
            "Epoch 129/300\n",
            "63/63 [==============================] - 1s 11ms/step - loss: 0.5742 - accuracy: 0.8323 - val_loss: 0.6346 - val_accuracy: 0.8403\n",
            "Epoch 130/300\n",
            "63/63 [==============================] - 1s 12ms/step - loss: 0.5653 - accuracy: 0.8378 - val_loss: 0.6192 - val_accuracy: 0.8495\n",
            "Epoch 131/300\n",
            "63/63 [==============================] - 1s 13ms/step - loss: 0.5733 - accuracy: 0.8428 - val_loss: 0.6307 - val_accuracy: 0.8530\n",
            "Epoch 132/300\n",
            "63/63 [==============================] - 1s 13ms/step - loss: 0.6073 - accuracy: 0.8299 - val_loss: 0.6365 - val_accuracy: 0.8426\n",
            "Epoch 133/300\n",
            "63/63 [==============================] - 1s 13ms/step - loss: 0.5929 - accuracy: 0.8333 - val_loss: 0.6285 - val_accuracy: 0.8530\n",
            "Epoch 134/300\n",
            "63/63 [==============================] - 1s 12ms/step - loss: 0.5896 - accuracy: 0.8299 - val_loss: 0.6240 - val_accuracy: 0.8530\n",
            "Epoch 135/300\n",
            "63/63 [==============================] - 1s 12ms/step - loss: 0.5367 - accuracy: 0.8467 - val_loss: 0.5984 - val_accuracy: 0.8576\n",
            "Epoch 136/300\n",
            "63/63 [==============================] - 1s 12ms/step - loss: 0.5715 - accuracy: 0.8418 - val_loss: 0.6158 - val_accuracy: 0.8646\n",
            "Epoch 137/300\n",
            "63/63 [==============================] - 1s 11ms/step - loss: 0.5509 - accuracy: 0.8492 - val_loss: 0.6077 - val_accuracy: 0.8588\n",
            "Epoch 138/300\n",
            "63/63 [==============================] - 1s 11ms/step - loss: 0.5453 - accuracy: 0.8492 - val_loss: 0.5978 - val_accuracy: 0.8565\n",
            "Epoch 139/300\n",
            "63/63 [==============================] - 1s 11ms/step - loss: 0.5387 - accuracy: 0.8467 - val_loss: 0.6016 - val_accuracy: 0.8634\n",
            "Epoch 140/300\n",
            "63/63 [==============================] - 1s 11ms/step - loss: 0.5413 - accuracy: 0.8502 - val_loss: 0.6158 - val_accuracy: 0.8472\n",
            "Epoch 141/300\n",
            "63/63 [==============================] - 1s 12ms/step - loss: 0.5390 - accuracy: 0.8423 - val_loss: 0.5891 - val_accuracy: 0.8611\n",
            "Epoch 142/300\n",
            "63/63 [==============================] - 1s 12ms/step - loss: 0.5536 - accuracy: 0.8482 - val_loss: 0.6034 - val_accuracy: 0.8565\n",
            "Epoch 143/300\n",
            "63/63 [==============================] - 1s 12ms/step - loss: 0.5206 - accuracy: 0.8557 - val_loss: 0.5863 - val_accuracy: 0.8704\n",
            "Epoch 144/300\n",
            "63/63 [==============================] - 1s 11ms/step - loss: 0.5243 - accuracy: 0.8576 - val_loss: 0.5789 - val_accuracy: 0.8681\n",
            "Epoch 145/300\n",
            "63/63 [==============================] - 1s 11ms/step - loss: 0.5067 - accuracy: 0.8656 - val_loss: 0.5784 - val_accuracy: 0.8623\n",
            "Epoch 146/300\n",
            "63/63 [==============================] - 1s 11ms/step - loss: 0.5481 - accuracy: 0.8502 - val_loss: 0.5890 - val_accuracy: 0.8669\n",
            "Epoch 147/300\n",
            "63/63 [==============================] - 1s 12ms/step - loss: 0.5055 - accuracy: 0.8571 - val_loss: 0.5780 - val_accuracy: 0.8576\n",
            "Epoch 148/300\n",
            "63/63 [==============================] - 1s 12ms/step - loss: 0.5119 - accuracy: 0.8601 - val_loss: 0.5637 - val_accuracy: 0.8692\n",
            "Epoch 149/300\n",
            "63/63 [==============================] - 1s 11ms/step - loss: 0.5257 - accuracy: 0.8527 - val_loss: 0.5814 - val_accuracy: 0.8600\n",
            "Epoch 150/300\n",
            "63/63 [==============================] - 1s 11ms/step - loss: 0.5110 - accuracy: 0.8681 - val_loss: 0.5711 - val_accuracy: 0.8576\n",
            "Epoch 151/300\n",
            "63/63 [==============================] - 1s 12ms/step - loss: 0.4978 - accuracy: 0.8596 - val_loss: 0.5801 - val_accuracy: 0.8715\n",
            "Epoch 152/300\n",
            "63/63 [==============================] - 1s 12ms/step - loss: 0.4817 - accuracy: 0.8676 - val_loss: 0.5559 - val_accuracy: 0.8669\n",
            "Epoch 153/300\n",
            "63/63 [==============================] - 1s 11ms/step - loss: 0.4618 - accuracy: 0.8810 - val_loss: 0.5478 - val_accuracy: 0.8576\n",
            "Epoch 154/300\n",
            "63/63 [==============================] - 1s 12ms/step - loss: 0.4715 - accuracy: 0.8760 - val_loss: 0.5641 - val_accuracy: 0.8704\n",
            "Epoch 155/300\n",
            "63/63 [==============================] - 1s 12ms/step - loss: 0.4701 - accuracy: 0.8705 - val_loss: 0.5547 - val_accuracy: 0.8657\n",
            "Epoch 156/300\n",
            "63/63 [==============================] - 1s 11ms/step - loss: 0.4792 - accuracy: 0.8775 - val_loss: 0.5534 - val_accuracy: 0.8657\n",
            "Epoch 157/300\n",
            "63/63 [==============================] - 1s 11ms/step - loss: 0.4662 - accuracy: 0.8810 - val_loss: 0.5485 - val_accuracy: 0.8657\n",
            "Epoch 158/300\n",
            "63/63 [==============================] - 1s 11ms/step - loss: 0.4657 - accuracy: 0.8780 - val_loss: 0.5565 - val_accuracy: 0.8715\n",
            "Epoch 159/300\n",
            "63/63 [==============================] - 1s 12ms/step - loss: 0.4721 - accuracy: 0.8700 - val_loss: 0.5409 - val_accuracy: 0.8727\n",
            "Epoch 160/300\n",
            "63/63 [==============================] - 1s 12ms/step - loss: 0.4521 - accuracy: 0.8819 - val_loss: 0.5545 - val_accuracy: 0.8657\n",
            "Epoch 161/300\n",
            "63/63 [==============================] - 1s 11ms/step - loss: 0.4703 - accuracy: 0.8750 - val_loss: 0.5371 - val_accuracy: 0.8704\n",
            "Epoch 162/300\n",
            "63/63 [==============================] - 1s 12ms/step - loss: 0.4676 - accuracy: 0.8740 - val_loss: 0.5347 - val_accuracy: 0.8808\n",
            "Epoch 163/300\n",
            "63/63 [==============================] - 1s 12ms/step - loss: 0.4299 - accuracy: 0.8874 - val_loss: 0.5399 - val_accuracy: 0.8785\n",
            "Epoch 164/300\n",
            "63/63 [==============================] - 1s 12ms/step - loss: 0.4601 - accuracy: 0.8795 - val_loss: 0.5497 - val_accuracy: 0.8773\n",
            "Epoch 165/300\n",
            "63/63 [==============================] - 1s 12ms/step - loss: 0.4384 - accuracy: 0.8810 - val_loss: 0.5449 - val_accuracy: 0.8727\n",
            "Epoch 166/300\n",
            "63/63 [==============================] - 1s 11ms/step - loss: 0.4038 - accuracy: 0.8919 - val_loss: 0.5185 - val_accuracy: 0.8773\n",
            "Epoch 167/300\n",
            "63/63 [==============================] - 1s 12ms/step - loss: 0.4324 - accuracy: 0.8874 - val_loss: 0.5286 - val_accuracy: 0.8808\n",
            "Epoch 168/300\n",
            "63/63 [==============================] - 1s 11ms/step - loss: 0.4226 - accuracy: 0.8899 - val_loss: 0.5334 - val_accuracy: 0.8762\n",
            "Epoch 169/300\n",
            "63/63 [==============================] - 1s 12ms/step - loss: 0.4291 - accuracy: 0.8814 - val_loss: 0.5372 - val_accuracy: 0.8727\n",
            "Epoch 170/300\n",
            "63/63 [==============================] - 1s 11ms/step - loss: 0.4308 - accuracy: 0.8948 - val_loss: 0.5327 - val_accuracy: 0.8796\n",
            "Epoch 171/300\n",
            "63/63 [==============================] - 1s 12ms/step - loss: 0.4049 - accuracy: 0.8909 - val_loss: 0.5243 - val_accuracy: 0.8738\n",
            "Epoch 172/300\n",
            "63/63 [==============================] - 1s 12ms/step - loss: 0.4102 - accuracy: 0.8973 - val_loss: 0.5187 - val_accuracy: 0.8796\n",
            "Epoch 173/300\n",
            "63/63 [==============================] - 1s 12ms/step - loss: 0.4126 - accuracy: 0.8919 - val_loss: 0.5300 - val_accuracy: 0.8727\n",
            "Epoch 174/300\n",
            "63/63 [==============================] - 1s 11ms/step - loss: 0.3935 - accuracy: 0.9023 - val_loss: 0.5262 - val_accuracy: 0.8750\n",
            "Epoch 175/300\n",
            "63/63 [==============================] - 1s 12ms/step - loss: 0.4292 - accuracy: 0.8854 - val_loss: 0.5154 - val_accuracy: 0.8738\n",
            "Epoch 176/300\n",
            "63/63 [==============================] - 1s 12ms/step - loss: 0.3971 - accuracy: 0.8958 - val_loss: 0.5185 - val_accuracy: 0.8773\n",
            "Epoch 177/300\n",
            "63/63 [==============================] - 1s 12ms/step - loss: 0.3785 - accuracy: 0.9072 - val_loss: 0.5164 - val_accuracy: 0.8715\n",
            "Epoch 178/300\n",
            "63/63 [==============================] - 1s 12ms/step - loss: 0.3960 - accuracy: 0.9008 - val_loss: 0.5045 - val_accuracy: 0.8819\n",
            "Epoch 179/300\n",
            "63/63 [==============================] - 1s 11ms/step - loss: 0.3852 - accuracy: 0.8988 - val_loss: 0.5107 - val_accuracy: 0.8738\n",
            "Epoch 180/300\n",
            "63/63 [==============================] - 1s 12ms/step - loss: 0.3965 - accuracy: 0.8988 - val_loss: 0.5264 - val_accuracy: 0.8646\n",
            "Epoch 181/300\n",
            "63/63 [==============================] - 1s 11ms/step - loss: 0.4126 - accuracy: 0.8834 - val_loss: 0.5213 - val_accuracy: 0.8808\n",
            "Epoch 182/300\n",
            "63/63 [==============================] - 1s 12ms/step - loss: 0.3900 - accuracy: 0.8978 - val_loss: 0.5106 - val_accuracy: 0.8750\n",
            "Epoch 183/300\n",
            "63/63 [==============================] - 1s 12ms/step - loss: 0.3816 - accuracy: 0.9117 - val_loss: 0.5063 - val_accuracy: 0.8773\n",
            "Epoch 184/300\n",
            "63/63 [==============================] - 1s 12ms/step - loss: 0.3795 - accuracy: 0.9077 - val_loss: 0.5111 - val_accuracy: 0.8727\n",
            "Epoch 185/300\n",
            "63/63 [==============================] - 1s 11ms/step - loss: 0.3752 - accuracy: 0.9028 - val_loss: 0.5030 - val_accuracy: 0.8819\n",
            "Epoch 186/300\n",
            "63/63 [==============================] - 1s 12ms/step - loss: 0.4011 - accuracy: 0.8988 - val_loss: 0.5039 - val_accuracy: 0.8681\n",
            "Epoch 187/300\n",
            "63/63 [==============================] - 1s 12ms/step - loss: 0.3922 - accuracy: 0.9013 - val_loss: 0.5030 - val_accuracy: 0.8808\n",
            "Epoch 188/300\n",
            "63/63 [==============================] - 1s 12ms/step - loss: 0.3807 - accuracy: 0.9023 - val_loss: 0.5177 - val_accuracy: 0.8738\n",
            "Epoch 189/300\n",
            "63/63 [==============================] - 1s 12ms/step - loss: 0.3592 - accuracy: 0.9043 - val_loss: 0.4977 - val_accuracy: 0.8843\n",
            "Epoch 190/300\n",
            "63/63 [==============================] - 1s 12ms/step - loss: 0.3591 - accuracy: 0.9077 - val_loss: 0.5135 - val_accuracy: 0.8808\n",
            "Epoch 191/300\n",
            "63/63 [==============================] - 1s 12ms/step - loss: 0.3764 - accuracy: 0.9107 - val_loss: 0.5107 - val_accuracy: 0.8750\n",
            "Epoch 192/300\n",
            "63/63 [==============================] - 1s 12ms/step - loss: 0.3636 - accuracy: 0.9167 - val_loss: 0.4991 - val_accuracy: 0.8796\n",
            "Epoch 193/300\n",
            "63/63 [==============================] - 1s 13ms/step - loss: 0.3475 - accuracy: 0.9236 - val_loss: 0.4927 - val_accuracy: 0.8831\n",
            "Epoch 194/300\n",
            "63/63 [==============================] - 1s 11ms/step - loss: 0.3567 - accuracy: 0.9127 - val_loss: 0.5071 - val_accuracy: 0.8785\n",
            "Epoch 195/300\n",
            "63/63 [==============================] - 1s 12ms/step - loss: 0.3705 - accuracy: 0.9072 - val_loss: 0.4946 - val_accuracy: 0.8796\n",
            "Epoch 196/300\n",
            "63/63 [==============================] - 1s 12ms/step - loss: 0.3906 - accuracy: 0.9028 - val_loss: 0.5163 - val_accuracy: 0.8715\n",
            "Epoch 197/300\n",
            "63/63 [==============================] - 1s 11ms/step - loss: 0.3505 - accuracy: 0.9167 - val_loss: 0.5029 - val_accuracy: 0.8831\n",
            "Epoch 198/300\n",
            "63/63 [==============================] - 1s 12ms/step - loss: 0.3574 - accuracy: 0.9206 - val_loss: 0.4986 - val_accuracy: 0.8796\n",
            "Epoch 199/300\n",
            "63/63 [==============================] - 1s 12ms/step - loss: 0.3536 - accuracy: 0.9137 - val_loss: 0.4835 - val_accuracy: 0.8958\n",
            "Epoch 200/300\n",
            "63/63 [==============================] - 1s 11ms/step - loss: 0.3482 - accuracy: 0.9167 - val_loss: 0.5208 - val_accuracy: 0.8634\n",
            "Epoch 201/300\n",
            "63/63 [==============================] - 1s 13ms/step - loss: 0.3483 - accuracy: 0.9102 - val_loss: 0.4850 - val_accuracy: 0.8808\n",
            "Epoch 202/300\n",
            "63/63 [==============================] - 1s 12ms/step - loss: 0.3656 - accuracy: 0.9162 - val_loss: 0.4999 - val_accuracy: 0.8843\n",
            "Epoch 203/300\n",
            "63/63 [==============================] - 1s 12ms/step - loss: 0.3279 - accuracy: 0.9226 - val_loss: 0.4871 - val_accuracy: 0.8877\n"
          ]
        }
      ]
    },
    {
      "cell_type": "code",
      "source": [
        "# evaluate network on test set\n",
        "test_loss, test_acc = model.evaluate(X_test, y_test)\n",
        "print(\"\\ntest loss: {}, test accuracy: {}\".format(test_loss, 100*test_acc))"
      ],
      "metadata": {
        "colab": {
          "base_uri": "https://localhost:8080/"
        },
        "id": "HYNSshVKUQXJ",
        "outputId": "fa89a9cd-8d59-444d-c69d-146a7a910457"
      },
      "execution_count": null,
      "outputs": [
        {
          "output_type": "stream",
          "name": "stdout",
          "text": [
            "27/27 [==============================] - 0s 6ms/step - loss: 0.4871 - accuracy: 0.8877\n",
            "\n",
            "test loss: 0.4871078431606293, test accuracy: 88.77314925193787\n"
          ]
        }
      ]
    },
    {
      "cell_type": "code",
      "source": [
        "model.save('model.h5')"
      ],
      "metadata": {
        "id": "4hbM58IDUZpS"
      },
      "execution_count": null,
      "outputs": []
    },
    {
      "cell_type": "markdown",
      "source": [
        "### **Prediction**"
      ],
      "metadata": {
        "id": "w2_PDibBP8n4"
      }
    },
    {
      "cell_type": "code",
      "source": [
        "from tensorflow.keras.models import load_model"
      ],
      "metadata": {
        "id": "gB_O-Y60-wmp"
      },
      "execution_count": 17,
      "outputs": []
    },
    {
      "cell_type": "markdown",
      "source": [
        "**load dataset.zip**"
      ],
      "metadata": {
        "id": "OUu3MuOLAiyX"
      }
    },
    {
      "cell_type": "code",
      "source": [
        "!gdown --id 1--C4P9SSZhYnTITWyYpEzNXZwpOKM6tW"
      ],
      "metadata": {
        "colab": {
          "base_uri": "https://localhost:8080/"
        },
        "id": "74gYoFtzAbLf",
        "outputId": "b2c8a71a-ddf4-4159-b206-0d6d5c7690da"
      },
      "execution_count": 18,
      "outputs": [
        {
          "output_type": "stream",
          "name": "stdout",
          "text": [
            "/usr/local/lib/python3.7/dist-packages/gdown/cli.py:131: FutureWarning: Option `--id` was deprecated in version 4.3.1 and will be removed in 5.0. You don't need to pass it anymore to use a file ID.\n",
            "  category=FutureWarning,\n",
            "Downloading...\n",
            "From: https://drive.google.com/uc?id=1--C4P9SSZhYnTITWyYpEzNXZwpOKM6tW\n",
            "To: /content/dataset.zip\n",
            "100% 35.0M/35.0M [00:00<00:00, 54.9MB/s]\n"
          ]
        }
      ]
    },
    {
      "cell_type": "code",
      "source": [
        "!unzip dataset.zip"
      ],
      "metadata": {
        "colab": {
          "base_uri": "https://localhost:8080/"
        },
        "id": "2_H6kjmdAdx4",
        "outputId": "5146b338-19c7-4a47-b6e3-cb73a7cc9ee6"
      },
      "execution_count": 19,
      "outputs": [
        {
          "output_type": "stream",
          "name": "stdout",
          "text": [
            "Archive:  dataset.zip\n",
            "   creating: dataset/\n",
            "   creating: dataset/1/\n",
            "  inflating: dataset/1/1-(1).mp3     \n",
            "  inflating: dataset/1/10-(1).mp3    \n",
            "  inflating: dataset/1/11-(1).mp3    \n",
            "  inflating: dataset/1/12-(1).mp3    \n",
            "  inflating: dataset/1/13-(1).mp3    \n",
            "  inflating: dataset/1/14-(1).mp3    \n",
            "  inflating: dataset/1/15-(1).mp3    \n",
            "  inflating: dataset/1/16-(1).mp3    \n",
            "  inflating: dataset/1/17-(1).mp3    \n",
            "  inflating: dataset/1/18-(1).mp3    \n",
            "  inflating: dataset/1/19-(1).mp3    \n",
            "  inflating: dataset/1/2-(1).mp3     \n",
            "  inflating: dataset/1/20-(1).mp3    \n",
            "  inflating: dataset/1/21-(1).mp3    \n",
            "  inflating: dataset/1/22-(1).mp3    \n",
            "  inflating: dataset/1/23-(1).mp3    \n",
            "  inflating: dataset/1/24-(1).mp3    \n",
            "  inflating: dataset/1/25-(1).mp3    \n",
            "  inflating: dataset/1/26-(1).mp3    \n",
            "  inflating: dataset/1/27-(1).mp3    \n",
            "  inflating: dataset/1/28-(1).mp3    \n",
            "  inflating: dataset/1/29-(1).mp3    \n",
            "  inflating: dataset/1/3-(1).mp3     \n",
            "  inflating: dataset/1/30-(1).mp3    \n",
            "  inflating: dataset/1/31-(1).mp3    \n",
            "  inflating: dataset/1/32-(1).mp3    \n",
            "  inflating: dataset/1/33-(1).mp3    \n",
            "  inflating: dataset/1/34-(1).mp3    \n",
            "  inflating: dataset/1/35-(1).mp3    \n",
            "  inflating: dataset/1/36-(1).mp3    \n",
            "  inflating: dataset/1/37-(1).mp3    \n",
            "  inflating: dataset/1/38-(1).mp3    \n",
            "  inflating: dataset/1/39-(1).mp3    \n",
            "  inflating: dataset/1/4-(1).mp3     \n",
            "  inflating: dataset/1/40-(1).mp3    \n",
            "  inflating: dataset/1/5-(1).mp3     \n",
            "  inflating: dataset/1/6-(1).mp3     \n",
            "  inflating: dataset/1/7-(1).mp3     \n",
            "  inflating: dataset/1/8-(1).mp3     \n",
            "  inflating: dataset/1/9-(1).mp3     \n",
            "   creating: dataset/11/\n",
            "  inflating: dataset/11/1-(11).mp3   \n",
            "  inflating: dataset/11/10-(11).mp3  \n",
            "  inflating: dataset/11/11-(11).mp3  \n",
            "  inflating: dataset/11/12-(11).mp3  \n",
            "  inflating: dataset/11/13-(11).mp3  \n",
            "  inflating: dataset/11/14-(11).mp3  \n",
            "  inflating: dataset/11/15-(11).mp3  \n",
            "  inflating: dataset/11/16-(11).mp3  \n",
            "  inflating: dataset/11/17-(11).mp3  \n",
            "  inflating: dataset/11/18-(11).mp3  \n",
            "  inflating: dataset/11/19-(11).mp3  \n",
            "  inflating: dataset/11/2-(11).mp3   \n",
            "  inflating: dataset/11/20-(11).mp3  \n",
            "  inflating: dataset/11/21-(11).mp3  \n",
            "  inflating: dataset/11/22-(11).mp3  \n",
            "  inflating: dataset/11/23-(11).mp3  \n",
            "  inflating: dataset/11/24-(11).mp3  \n",
            "  inflating: dataset/11/25-(11).mp3  \n",
            "  inflating: dataset/11/26-(11).mp3  \n",
            "  inflating: dataset/11/27-(11).mp3  \n",
            "  inflating: dataset/11/28-(11).mp3  \n",
            "  inflating: dataset/11/29-(11).mp3  \n",
            "  inflating: dataset/11/3-(11).mp3   \n",
            "  inflating: dataset/11/30-(11).mp3  \n",
            "  inflating: dataset/11/31-(11).mp3  \n",
            "  inflating: dataset/11/32-(11).mp3  \n",
            "  inflating: dataset/11/33-(11).mp3  \n",
            "  inflating: dataset/11/34-(11).mp3  \n",
            "  inflating: dataset/11/35-(11).mp3  \n",
            "  inflating: dataset/11/36-(11).mp3  \n",
            "  inflating: dataset/11/37-(11).mp3  \n",
            "  inflating: dataset/11/38-(11).mp3  \n",
            "  inflating: dataset/11/39-(11).mp3  \n",
            "  inflating: dataset/11/4-(11).mp3   \n",
            "  inflating: dataset/11/40-(11).mp3  \n",
            "  inflating: dataset/11/5-(11).mp3   \n",
            "  inflating: dataset/11/6-(11).mp3   \n",
            "  inflating: dataset/11/7-(11).mp3   \n",
            "  inflating: dataset/11/8-(11).mp3   \n",
            "  inflating: dataset/11/9-(11).mp3   \n",
            "   creating: dataset/13/\n",
            "  inflating: dataset/13/1-(13).mp3   \n",
            "  inflating: dataset/13/10-(13).mp3  \n",
            "  inflating: dataset/13/11-(13).mp3  \n",
            "  inflating: dataset/13/12-(13).mp3  \n",
            "  inflating: dataset/13/13-(13).mp3  \n",
            "  inflating: dataset/13/14-(13).mp3  \n",
            "  inflating: dataset/13/15-(13).mp3  \n",
            "  inflating: dataset/13/16-(13).mp3  \n",
            "  inflating: dataset/13/17-(13).mp3  \n",
            "  inflating: dataset/13/18-(13).mp3  \n",
            "  inflating: dataset/13/19-(13).mp3  \n",
            "  inflating: dataset/13/2-(13).mp3   \n",
            "  inflating: dataset/13/20-(13).mp3  \n",
            "  inflating: dataset/13/21-(13).mp3  \n",
            "  inflating: dataset/13/22-(13).mp3  \n",
            "  inflating: dataset/13/23-(13).mp3  \n",
            "  inflating: dataset/13/24-(13).mp3  \n",
            "  inflating: dataset/13/25-(13).mp3  \n",
            "  inflating: dataset/13/26-(13).mp3  \n",
            "  inflating: dataset/13/27-(13).mp3  \n",
            "  inflating: dataset/13/28-(13).mp3  \n",
            "  inflating: dataset/13/29-(13).mp3  \n",
            "  inflating: dataset/13/3-(13).mp3   \n",
            "  inflating: dataset/13/30-(13).mp3  \n",
            "  inflating: dataset/13/31-(13).mp3  \n",
            "  inflating: dataset/13/32-(13).mp3  \n",
            "  inflating: dataset/13/33-(13).mp3  \n",
            "  inflating: dataset/13/34-(13).mp3  \n",
            "  inflating: dataset/13/35-(13).mp3  \n",
            "  inflating: dataset/13/36-(13).mp3  \n",
            "  inflating: dataset/13/37-(13).mp3  \n",
            "  inflating: dataset/13/38-(13).mp3  \n",
            "  inflating: dataset/13/39-(13).mp3  \n",
            "  inflating: dataset/13/4-(13).mp3   \n",
            "  inflating: dataset/13/40-(13).mp3  \n",
            "  inflating: dataset/13/5-(13).mp3   \n",
            "  inflating: dataset/13/6-(13).mp3   \n",
            "  inflating: dataset/13/7-(13).mp3   \n",
            "  inflating: dataset/13/8-(13).mp3   \n",
            "  inflating: dataset/13/9-(13).mp3   \n",
            "   creating: dataset/15/\n",
            "  inflating: dataset/15/1-(15).mp3   \n",
            "  inflating: dataset/15/10-(15).mp3  \n",
            "  inflating: dataset/15/11-(15).mp3  \n",
            "  inflating: dataset/15/12-(15).mp3  \n",
            "  inflating: dataset/15/13-(15).mp3  \n",
            "  inflating: dataset/15/14-(15).mp3  \n",
            "  inflating: dataset/15/15-(15).mp3  \n",
            "  inflating: dataset/15/16-(15).mp3  \n",
            "  inflating: dataset/15/17-(15).mp3  \n",
            "  inflating: dataset/15/18-(15).mp3  \n",
            "  inflating: dataset/15/19-(15).mp3  \n",
            "  inflating: dataset/15/2-(15).mp3   \n",
            "  inflating: dataset/15/20-(15).mp3  \n",
            "  inflating: dataset/15/21-(15).mp3  \n",
            "  inflating: dataset/15/22-(15).mp3  \n",
            "  inflating: dataset/15/23-(15).mp3  \n",
            "  inflating: dataset/15/24-(15).mp3  \n",
            "  inflating: dataset/15/25-(15).mp3  \n",
            "  inflating: dataset/15/26-(15).mp3  \n",
            "  inflating: dataset/15/27-(15).mp3  \n",
            "  inflating: dataset/15/28-(15).mp3  \n",
            "  inflating: dataset/15/29-(15).mp3  \n",
            "  inflating: dataset/15/3-(15).mp3   \n",
            "  inflating: dataset/15/30-(15).mp3  \n",
            "  inflating: dataset/15/31-(15).mp3  \n",
            "  inflating: dataset/15/32-(15).mp3  \n",
            "  inflating: dataset/15/33-(15).mp3  \n",
            "  inflating: dataset/15/34-(15).mp3  \n",
            "  inflating: dataset/15/35-(15).mp3  \n",
            "  inflating: dataset/15/36-(15).mp3  \n",
            "  inflating: dataset/15/37-(15).mp3  \n",
            "  inflating: dataset/15/38-(15).mp3  \n",
            "  inflating: dataset/15/39-(15).mp3  \n",
            "  inflating: dataset/15/4-(15).mp3   \n",
            "  inflating: dataset/15/40-(15).mp3  \n",
            "  inflating: dataset/15/5-(15).mp3   \n",
            "  inflating: dataset/15/6-(15).mp3   \n",
            "  inflating: dataset/15/7-(15).mp3   \n",
            "  inflating: dataset/15/8-(15).mp3   \n",
            "  inflating: dataset/15/9-(15).mp3   \n",
            "   creating: dataset/17/\n",
            "  inflating: dataset/17/1-(17).mp3   \n",
            "  inflating: dataset/17/10-(17).mp3  \n",
            "  inflating: dataset/17/11-(17).mp3  \n",
            "  inflating: dataset/17/12-(17).mp3  \n",
            "  inflating: dataset/17/13-(17).mp3  \n",
            "  inflating: dataset/17/14-(17).mp3  \n",
            "  inflating: dataset/17/15-(17).mp3  \n",
            "  inflating: dataset/17/16-(17).mp3  \n",
            "  inflating: dataset/17/17-(17).mp3  \n",
            "  inflating: dataset/17/18-(17).mp3  \n",
            "  inflating: dataset/17/19-(17).mp3  \n",
            "  inflating: dataset/17/2-(17).mp3   \n",
            "  inflating: dataset/17/20-(17).mp3  \n",
            "  inflating: dataset/17/21-(17).mp3  \n",
            "  inflating: dataset/17/22-(17).mp3  \n",
            "  inflating: dataset/17/23-(17).mp3  \n",
            "  inflating: dataset/17/24-(17).mp3  \n",
            "  inflating: dataset/17/25-(17).mp3  \n",
            "  inflating: dataset/17/26-(17).mp3  \n",
            "  inflating: dataset/17/27-(17).mp3  \n",
            "  inflating: dataset/17/28-(17).mp3  \n",
            "  inflating: dataset/17/29-(17).mp3  \n",
            "  inflating: dataset/17/3-(17).mp3   \n",
            "  inflating: dataset/17/30-(17).mp3  \n",
            "  inflating: dataset/17/31-(17).mp3  \n",
            "  inflating: dataset/17/32-(17).mp3  \n",
            "  inflating: dataset/17/33-(17).mp3  \n",
            "  inflating: dataset/17/34-(17).mp3  \n",
            "  inflating: dataset/17/35-(17).mp3  \n",
            "  inflating: dataset/17/36-(17).mp3  \n",
            "  inflating: dataset/17/37-(17).mp3  \n",
            "  inflating: dataset/17/38-(17).mp3  \n",
            "  inflating: dataset/17/39-(17).mp3  \n",
            "  inflating: dataset/17/4-(17).mp3   \n",
            "  inflating: dataset/17/40-(17).mp3  \n",
            "  inflating: dataset/17/5-(17).mp3   \n",
            "  inflating: dataset/17/6-(17).mp3   \n",
            "  inflating: dataset/17/7-(17).mp3   \n",
            "  inflating: dataset/17/8-(17).mp3   \n",
            "  inflating: dataset/17/9-(17).mp3   \n",
            "   creating: dataset/19/\n",
            "  inflating: dataset/19/1-(19).mp3   \n",
            "  inflating: dataset/19/10-(19).mp3  \n",
            "  inflating: dataset/19/11-(19).mp3  \n",
            "  inflating: dataset/19/12-(19).mp3  \n",
            "  inflating: dataset/19/13-(19).mp3  \n",
            "  inflating: dataset/19/14-(19).mp3  \n",
            "  inflating: dataset/19/15-(19).mp3  \n",
            "  inflating: dataset/19/16-(19).mp3  \n",
            "  inflating: dataset/19/17-(19).mp3  \n",
            "  inflating: dataset/19/18-(19).mp3  \n",
            "  inflating: dataset/19/19-(19).mp3  \n",
            "  inflating: dataset/19/2-(19).mp3   \n",
            "  inflating: dataset/19/20-(19).mp3  \n",
            "  inflating: dataset/19/21-(19).mp3  \n",
            "  inflating: dataset/19/22-(19).mp3  \n",
            "  inflating: dataset/19/23-(19).mp3  \n",
            "  inflating: dataset/19/24-(19).mp3  \n",
            "  inflating: dataset/19/25-(19).mp3  \n",
            "  inflating: dataset/19/26-(19).mp3  \n",
            "  inflating: dataset/19/27-(19).mp3  \n",
            "  inflating: dataset/19/28-(19).mp3  \n",
            "  inflating: dataset/19/29-(19).mp3  \n",
            "  inflating: dataset/19/3-(19).mp3   \n",
            "  inflating: dataset/19/30-(19).mp3  \n",
            "  inflating: dataset/19/31-(19).mp3  \n",
            "  inflating: dataset/19/32-(19).mp3  \n",
            "  inflating: dataset/19/33-(19).mp3  \n",
            "  inflating: dataset/19/34-(19).mp3  \n",
            "  inflating: dataset/19/35-(19).mp3  \n",
            "  inflating: dataset/19/36-(19).mp3  \n",
            "  inflating: dataset/19/37-(19).mp3  \n",
            "  inflating: dataset/19/38-(19).mp3  \n",
            "  inflating: dataset/19/39-(19).mp3  \n",
            "  inflating: dataset/19/4-(19).mp3   \n",
            "  inflating: dataset/19/40-(19).mp3  \n",
            "  inflating: dataset/19/5-(19).mp3   \n",
            "  inflating: dataset/19/6-(19).mp3   \n",
            "  inflating: dataset/19/7-(19).mp3   \n",
            "  inflating: dataset/19/8-(19).mp3   \n",
            "  inflating: dataset/19/9-(19).mp3   \n",
            "   creating: dataset/3/\n",
            "  inflating: dataset/3/1-(3).mp3     \n",
            "  inflating: dataset/3/10-(3).mp3    \n",
            "  inflating: dataset/3/11-(3).mp3    \n",
            "  inflating: dataset/3/12-(3).mp3    \n",
            "  inflating: dataset/3/13-(3).mp3    \n",
            "  inflating: dataset/3/14-(3).mp3    \n",
            "  inflating: dataset/3/15-(3).mp3    \n",
            "  inflating: dataset/3/16-(3).mp3    \n",
            "  inflating: dataset/3/17-(3).mp3    \n",
            "  inflating: dataset/3/18-(3).mp3    \n",
            "  inflating: dataset/3/19-(3).mp3    \n",
            "  inflating: dataset/3/2-(3).mp3     \n",
            "  inflating: dataset/3/20-(3).mp3    \n",
            "  inflating: dataset/3/21-(3).mp3    \n",
            "  inflating: dataset/3/22-(3).mp3    \n",
            "  inflating: dataset/3/23-(3).mp3    \n",
            "  inflating: dataset/3/24-(3).mp3    \n",
            "  inflating: dataset/3/25-(3).mp3    \n",
            "  inflating: dataset/3/26-(3).mp3    \n",
            "  inflating: dataset/3/27-(3).mp3    \n",
            "  inflating: dataset/3/28-(3).mp3    \n",
            "  inflating: dataset/3/29-(3).mp3    \n",
            "  inflating: dataset/3/3-(3).mp3     \n",
            "  inflating: dataset/3/30-(3).mp3    \n",
            "  inflating: dataset/3/31-(3).mp3    \n",
            "  inflating: dataset/3/32-(3).mp3    \n",
            "  inflating: dataset/3/33-(3).mp3    \n",
            "  inflating: dataset/3/34-(3).mp3    \n",
            "  inflating: dataset/3/35-(3).mp3    \n",
            "  inflating: dataset/3/36-(3).mp3    \n",
            "  inflating: dataset/3/37-(3).mp3    \n",
            "  inflating: dataset/3/38-(3).mp3    \n",
            "  inflating: dataset/3/39-(3).mp3    \n",
            "  inflating: dataset/3/4-(3).mp3     \n",
            "  inflating: dataset/3/40-(3).mp3    \n",
            "  inflating: dataset/3/5-(3).mp3     \n",
            "  inflating: dataset/3/6-(3).mp3     \n",
            "  inflating: dataset/3/7-(3).mp3     \n",
            "  inflating: dataset/3/8-(3).mp3     \n",
            "  inflating: dataset/3/9-(3).mp3     \n",
            "   creating: dataset/4/\n",
            "  inflating: dataset/4/1-(4).mp3     \n",
            "  inflating: dataset/4/10-(4).mp3    \n",
            "  inflating: dataset/4/11-(4).mp3    \n",
            "  inflating: dataset/4/12-(4).mp3    \n",
            "  inflating: dataset/4/13-(4).mp3    \n",
            "  inflating: dataset/4/14-(4).mp3    \n",
            "  inflating: dataset/4/15-(4).mp3    \n",
            "  inflating: dataset/4/16-(4).mp3    \n",
            "  inflating: dataset/4/17-(4).mp3    \n",
            "  inflating: dataset/4/18-(4).mp3    \n",
            "  inflating: dataset/4/19-(4).mp3    \n",
            "  inflating: dataset/4/2-(4).mp3     \n",
            "  inflating: dataset/4/20-(4).mp3    \n",
            "  inflating: dataset/4/21-(4).mp3    \n",
            "  inflating: dataset/4/22-(4).mp3    \n",
            "  inflating: dataset/4/23-(4).mp3    \n",
            "  inflating: dataset/4/24-(4).mp3    \n",
            "  inflating: dataset/4/25-(4).mp3    \n",
            "  inflating: dataset/4/26-(4).mp3    \n",
            "  inflating: dataset/4/27-(4).mp3    \n",
            "  inflating: dataset/4/28-(4).mp3    \n",
            "  inflating: dataset/4/29-(4).mp3    \n",
            "  inflating: dataset/4/3-(4).mp3     \n",
            "  inflating: dataset/4/30-(4).mp3    \n",
            "  inflating: dataset/4/31-(4).mp3    \n",
            "  inflating: dataset/4/32-(4).mp3    \n",
            "  inflating: dataset/4/33-(4).mp3    \n",
            "  inflating: dataset/4/34-(4).mp3    \n",
            "  inflating: dataset/4/35-(4).mp3    \n",
            "  inflating: dataset/4/36-(4).mp3    \n",
            "  inflating: dataset/4/37-(4).mp3    \n",
            "  inflating: dataset/4/38-(4).mp3    \n",
            "  inflating: dataset/4/39-(4).mp3    \n",
            "  inflating: dataset/4/4-(4).mp3     \n",
            "  inflating: dataset/4/40-(4).mp3    \n",
            "  inflating: dataset/4/5-(4).mp3     \n",
            "  inflating: dataset/4/6-(4).mp3     \n",
            "  inflating: dataset/4/7-(4).mp3     \n",
            "  inflating: dataset/4/8-(4).mp3     \n",
            "  inflating: dataset/4/9-(4).mp3     \n",
            "   creating: dataset/5/\n",
            "  inflating: dataset/5/1-(5).mp3     \n",
            "  inflating: dataset/5/10-(5).mp3    \n",
            "  inflating: dataset/5/11-(5).mp3    \n",
            "  inflating: dataset/5/12-(5).mp3    \n",
            "  inflating: dataset/5/13-(5).mp3    \n",
            "  inflating: dataset/5/14-(5).mp3    \n",
            "  inflating: dataset/5/15-(5).mp3    \n",
            "  inflating: dataset/5/16-(5).mp3    \n",
            "  inflating: dataset/5/17-(5).mp3    \n",
            "  inflating: dataset/5/18-(5).mp3    \n",
            "  inflating: dataset/5/19-(5).mp3    \n",
            "  inflating: dataset/5/2-(5).mp3     \n",
            "  inflating: dataset/5/20-(5).mp3    \n",
            "  inflating: dataset/5/21-(5).mp3    \n",
            "  inflating: dataset/5/22-(5).mp3    \n",
            "  inflating: dataset/5/23-(5).mp3    \n",
            "  inflating: dataset/5/24-(5).mp3    \n",
            "  inflating: dataset/5/25-(5).mp3    \n",
            "  inflating: dataset/5/26-(5).mp3    \n",
            "  inflating: dataset/5/27-(5).mp3    \n",
            "  inflating: dataset/5/28-(5).mp3    \n",
            "  inflating: dataset/5/29-(5).mp3    \n",
            "  inflating: dataset/5/3-(5).mp3     \n",
            "  inflating: dataset/5/30-(5).mp3    \n",
            "  inflating: dataset/5/31-(5).mp3    \n",
            "  inflating: dataset/5/32-(5).mp3    \n",
            "  inflating: dataset/5/33-(5).mp3    \n",
            "  inflating: dataset/5/34-(5).mp3    \n",
            "  inflating: dataset/5/35-(5).mp3    \n",
            "  inflating: dataset/5/36-(5).mp3    \n",
            "  inflating: dataset/5/37-(5).mp3    \n",
            "  inflating: dataset/5/38-(5).mp3    \n",
            "  inflating: dataset/5/39-(5).mp3    \n",
            "  inflating: dataset/5/4-(5).mp3     \n",
            "  inflating: dataset/5/40-(5).mp3    \n",
            "  inflating: dataset/5/5-(5).mp3     \n",
            "  inflating: dataset/5/6-(5).mp3     \n",
            "  inflating: dataset/5/7-(5).mp3     \n",
            "  inflating: dataset/5/8-(5).mp3     \n",
            "  inflating: dataset/5/9-(5).mp3     \n",
            "   creating: dataset/7/\n",
            "  inflating: dataset/7/1-(7).mp3     \n",
            "  inflating: dataset/7/10-(7).mp3    \n",
            "  inflating: dataset/7/11-(7).mp3    \n",
            "  inflating: dataset/7/12-(7).mp3    \n",
            "  inflating: dataset/7/13-(7).mp3    \n",
            "  inflating: dataset/7/14-(7).mp3    \n",
            "  inflating: dataset/7/15-(7).mp3    \n",
            "  inflating: dataset/7/16-(7).mp3    \n",
            "  inflating: dataset/7/17-(7).mp3    \n",
            "  inflating: dataset/7/18-(7).mp3    \n",
            "  inflating: dataset/7/19-(7).mp3    \n",
            "  inflating: dataset/7/2-(7).mp3     \n",
            "  inflating: dataset/7/20-(7).mp3    \n",
            "  inflating: dataset/7/21-(7).mp3    \n",
            "  inflating: dataset/7/22-(7).mp3    \n",
            "  inflating: dataset/7/23-(7).mp3    \n",
            "  inflating: dataset/7/24-(7).mp3    \n",
            "  inflating: dataset/7/25-(7).mp3    \n",
            "  inflating: dataset/7/26-(7).mp3    \n",
            "  inflating: dataset/7/27-(7).mp3    \n",
            "  inflating: dataset/7/28-(7).mp3    \n",
            "  inflating: dataset/7/29-(7).mp3    \n",
            "  inflating: dataset/7/3-(7).mp3     \n",
            "  inflating: dataset/7/30-(7).mp3    \n",
            "  inflating: dataset/7/31-(7).mp3    \n",
            "  inflating: dataset/7/32-(7).mp3    \n",
            "  inflating: dataset/7/33-(7).mp3    \n",
            "  inflating: dataset/7/34-(7).mp3    \n",
            "  inflating: dataset/7/35-(7).mp3    \n",
            "  inflating: dataset/7/36-(7).mp3    \n",
            "  inflating: dataset/7/37-(7).mp3    \n",
            "  inflating: dataset/7/38-(7).mp3    \n",
            "  inflating: dataset/7/39-(7).mp3    \n",
            "  inflating: dataset/7/4-(7).mp3     \n",
            "  inflating: dataset/7/40-(7).mp3    \n",
            "  inflating: dataset/7/5-(7).mp3     \n",
            "  inflating: dataset/7/6-(7).mp3     \n",
            "  inflating: dataset/7/7-(7).mp3     \n",
            "  inflating: dataset/7/8-(7).mp3     \n",
            "  inflating: dataset/7/9-(7).mp3     \n",
            "   creating: dataset/8/\n",
            "  inflating: dataset/8/1-(8).mp3     \n",
            "  inflating: dataset/8/10-(8).mp3    \n",
            "  inflating: dataset/8/11-(8).mp3    \n",
            "  inflating: dataset/8/12-(8).mp3    \n",
            "  inflating: dataset/8/13-(8).mp3    \n",
            "  inflating: dataset/8/14-(8).mp3    \n",
            "  inflating: dataset/8/15-(8).mp3    \n",
            "  inflating: dataset/8/16-(8).mp3    \n",
            "  inflating: dataset/8/17-(8).mp3    \n",
            "  inflating: dataset/8/18-(8).mp3    \n",
            "  inflating: dataset/8/19-(8).mp3    \n",
            "  inflating: dataset/8/2-(8).mp3     \n",
            "  inflating: dataset/8/20-(8).mp3    \n",
            "  inflating: dataset/8/21-(8).mp3    \n",
            "  inflating: dataset/8/22-(8).mp3    \n",
            "  inflating: dataset/8/23-(8).mp3    \n",
            "  inflating: dataset/8/24-(8).mp3    \n",
            "  inflating: dataset/8/25-(8).mp3    \n",
            "  inflating: dataset/8/26-(8).mp3    \n",
            "  inflating: dataset/8/27-(8).mp3    \n",
            "  inflating: dataset/8/28-(8).mp3    \n",
            "  inflating: dataset/8/29-(8).mp3    \n",
            "  inflating: dataset/8/3-(8).mp3     \n",
            "  inflating: dataset/8/30-(8).mp3    \n",
            "  inflating: dataset/8/31-(8).mp3    \n",
            "  inflating: dataset/8/32-(8).mp3    \n",
            "  inflating: dataset/8/33-(8).mp3    \n",
            "  inflating: dataset/8/34-(8).mp3    \n",
            "  inflating: dataset/8/35-(8).mp3    \n",
            "  inflating: dataset/8/36-(8).mp3    \n",
            "  inflating: dataset/8/37-(8).mp3    \n",
            "  inflating: dataset/8/38-(8).mp3    \n",
            "  inflating: dataset/8/39-(8).mp3    \n",
            "  inflating: dataset/8/4-(8).mp3     \n",
            "  inflating: dataset/8/40-(8).mp3    \n",
            "  inflating: dataset/8/5-(8).mp3     \n",
            "  inflating: dataset/8/6-(8).mp3     \n",
            "  inflating: dataset/8/7-(8).mp3     \n",
            "  inflating: dataset/8/8-(8).mp3     \n",
            "  inflating: dataset/8/9-(8).mp3     \n",
            "   creating: dataset/9/\n",
            "  inflating: dataset/9/1-(9).mp3     \n",
            "  inflating: dataset/9/10-(9).mp3    \n",
            "  inflating: dataset/9/11-(9).mp3    \n",
            "  inflating: dataset/9/12-(9).mp3    \n",
            "  inflating: dataset/9/13-(9).mp3    \n",
            "  inflating: dataset/9/14-(9).mp3    \n",
            "  inflating: dataset/9/15-(9).mp3    \n",
            "  inflating: dataset/9/16-(9).mp3    \n",
            "  inflating: dataset/9/17-(9).mp3    \n",
            "  inflating: dataset/9/18-(9).mp3    \n",
            "  inflating: dataset/9/19-(9).mp3    \n",
            "  inflating: dataset/9/2-(9).mp3     \n",
            "  inflating: dataset/9/20-(9).mp3    \n",
            "  inflating: dataset/9/21-(9).mp3    \n",
            "  inflating: dataset/9/22-(9).mp3    \n",
            "  inflating: dataset/9/23-(9).mp3    \n",
            "  inflating: dataset/9/24-(9).mp3    \n",
            "  inflating: dataset/9/25-(9).mp3    \n",
            "  inflating: dataset/9/26-(9).mp3    \n",
            "  inflating: dataset/9/27-(9).mp3    \n",
            "  inflating: dataset/9/28-(9).mp3    \n",
            "  inflating: dataset/9/29-(9).mp3    \n",
            "  inflating: dataset/9/3-(9).mp3     \n",
            "  inflating: dataset/9/30-(9).mp3    \n",
            "  inflating: dataset/9/31-(9).mp3    \n",
            "  inflating: dataset/9/32-(9).mp3    \n",
            "  inflating: dataset/9/33-(9).mp3    \n",
            "  inflating: dataset/9/34-(9).mp3    \n",
            "  inflating: dataset/9/35-(9).mp3    \n",
            "  inflating: dataset/9/36-(9).mp3    \n",
            "  inflating: dataset/9/37-(9).mp3    \n",
            "  inflating: dataset/9/38-(9).mp3    \n",
            "  inflating: dataset/9/39-(9).mp3    \n",
            "  inflating: dataset/9/4-(9).mp3     \n",
            "  inflating: dataset/9/40-(9).mp3    \n",
            "  inflating: dataset/9/5-(9).mp3     \n",
            "  inflating: dataset/9/6-(9).mp3     \n",
            "  inflating: dataset/9/7-(9).mp3     \n",
            "  inflating: dataset/9/8-(9).mp3     \n",
            "  inflating: dataset/9/9-(9).mp3     \n"
          ]
        }
      ]
    },
    {
      "cell_type": "code",
      "source": [
        "class Recognizer:\n",
        "\n",
        "  def __init__(self):\n",
        "    self.MAX_LEN = 300\n",
        "    self.categories = ['ارز', 'اوراق', 'بانک', 'سکه', 'صندوق درآمد ثابت', 'صندوق سهامی','صندوق قابل معامله', 'صندوق مختلط', 'طلا', 'فلزات', 'مشتقات','نفت']\n",
        "\n",
        "  def load_model(self, model_name):\n",
        "    model = load_model(model_name)\n",
        "    return model\n",
        "\n",
        "  def signal2mfcc(self, file_path, max_len):\n",
        "      signal, sample_rate = lr.load(file_path, mono=True, sr=None)\n",
        "      mfcc = lr.feature.mfcc(signal, sample_rate)\n",
        "\n",
        "      if (max_len > mfcc.shape[1]):\n",
        "          pad_width = max_len - mfcc.shape[1]\n",
        "          mfcc = np.pad(mfcc, pad_width=((0, 0), (0, pad_width)), mode='constant')\n",
        "      else:\n",
        "          mfcc = mfcc[:, :max_len]\n",
        "      \n",
        "      return mfcc\n",
        "\n",
        "  def prediction(self, model, audio_path):\n",
        "      audio_file = glob(audio_path)\n",
        "      MFCCs = self.signal2mfcc(audio_file[0], self.MAX_LEN)\n",
        "      MFCCs = MFCCs.reshape(1,20,300,1)\n",
        "      prediction = model.predict(MFCCs)[0]\n",
        "      category_index = np.where(prediction == max(prediction))[0][0]\n",
        "      result = self.categories[category_index]\n",
        "      return result   \n"
      ],
      "metadata": {
        "id": "3-6wRuJQuqQw"
      },
      "execution_count": 61,
      "outputs": []
    },
    {
      "cell_type": "code",
      "source": [
        "if __name__ == '__main__':\n",
        "  recognizer = Recognizer()\n",
        "  model = recognizer.load_model('model.h5')\n",
        "  result = recognizer.prediction(model, '/content/dataset/9/8-(9).mp3')\n",
        "  print(result)"
      ],
      "metadata": {
        "colab": {
          "base_uri": "https://localhost:8080/"
        },
        "id": "E5SLMl35zxQ8",
        "outputId": "7c21d5ce-26d2-4bd0-c3f0-0ba0be802473"
      },
      "execution_count": 62,
      "outputs": [
        {
          "output_type": "stream",
          "name": "stderr",
          "text": [
            "/usr/local/lib/python3.7/dist-packages/librosa/core/audio.py:165: UserWarning: PySoundFile failed. Trying audioread instead.\n",
            "  warnings.warn(\"PySoundFile failed. Trying audioread instead.\")\n"
          ]
        },
        {
          "output_type": "stream",
          "name": "stdout",
          "text": [
            "1/1 [==============================] - 0s 102ms/step\n",
            "نفت\n"
          ]
        }
      ]
    },
    {
      "cell_type": "markdown",
      "source": [
        "### **Confusion Matrix**"
      ],
      "metadata": {
        "id": "9Diu95Oc0RPY"
      }
    },
    {
      "cell_type": "code",
      "source": [
        "from sklearn.metrics import confusion_matrix, classification_report"
      ],
      "metadata": {
        "id": "UT9Yd-Kwn-lW"
      },
      "execution_count": 64,
      "outputs": []
    },
    {
      "cell_type": "code",
      "source": [
        "recognizer = Recognizer()\n",
        "model = recognizer.load_model('model.h5')"
      ],
      "metadata": {
        "id": "MdX8bWxF1kxf"
      },
      "execution_count": 54,
      "outputs": []
    },
    {
      "cell_type": "code",
      "source": [
        "y_pred = model.predict(X_test)\n",
        "y_pred = np.argmax(y_pred, axis=1)"
      ],
      "metadata": {
        "colab": {
          "base_uri": "https://localhost:8080/"
        },
        "id": "iyAQV6eo0ef2",
        "outputId": "7830d671-8e51-4839-91bd-a161ffec13a2"
      },
      "execution_count": 55,
      "outputs": [
        {
          "output_type": "stream",
          "name": "stdout",
          "text": [
            "27/27 [==============================] - 0s 4ms/step\n"
          ]
        }
      ]
    },
    {
      "cell_type": "code",
      "source": [
        "y_test = np.argmax(y_test, axis=1)"
      ],
      "metadata": {
        "id": "wNc22w9Z6Q-E"
      },
      "execution_count": 58,
      "outputs": []
    },
    {
      "cell_type": "code",
      "source": [
        "print(classification_report(y_test, y_pred))"
      ],
      "metadata": {
        "colab": {
          "base_uri": "https://localhost:8080/"
        },
        "id": "rE_e00Vq7kjc",
        "outputId": "0c138f43-6595-4fcf-ce20-a9071e1120cd"
      },
      "execution_count": 66,
      "outputs": [
        {
          "output_type": "stream",
          "name": "stdout",
          "text": [
            "              precision    recall  f1-score   support\n",
            "\n",
            "           0       0.90      0.76      0.83        72\n",
            "           1       0.86      0.85      0.85        72\n",
            "           2       0.92      0.99      0.95        72\n",
            "           3       0.85      0.79      0.82        72\n",
            "           4       0.93      0.92      0.92        72\n",
            "           5       0.93      0.89      0.91        72\n",
            "           6       0.78      0.86      0.82        72\n",
            "           7       0.90      0.85      0.87        72\n",
            "           8       0.87      0.96      0.91        72\n",
            "           9       0.93      0.93      0.93        72\n",
            "          10       0.86      0.90      0.88        72\n",
            "          11       0.95      0.96      0.95        72\n",
            "\n",
            "    accuracy                           0.89       864\n",
            "   macro avg       0.89      0.89      0.89       864\n",
            "weighted avg       0.89      0.89      0.89       864\n",
            "\n"
          ]
        }
      ]
    },
    {
      "cell_type": "code",
      "source": [
        "cm = confusion_matrix(y_test, y_pred)"
      ],
      "metadata": {
        "id": "3a4L5Xp21u-A"
      },
      "execution_count": 67,
      "outputs": []
    },
    {
      "cell_type": "code",
      "source": [
        "cm"
      ],
      "metadata": {
        "colab": {
          "base_uri": "https://localhost:8080/"
        },
        "id": "DbWJW5uY16Zx",
        "outputId": "49ee6e1e-0783-4ef1-efa8-26ad5725f1ea"
      },
      "execution_count": 60,
      "outputs": [
        {
          "output_type": "execute_result",
          "data": {
            "text/plain": [
              "array([[55,  1,  1,  5,  0,  0,  6,  1,  1,  0,  2,  0],\n",
              "       [ 1, 61,  1,  1,  1,  2,  0,  2,  2,  0,  1,  0],\n",
              "       [ 0,  0, 71,  0,  0,  1,  0,  0,  0,  0,  0,  0],\n",
              "       [ 1,  0,  0, 57,  0,  0,  8,  0,  2,  0,  4,  0],\n",
              "       [ 0,  2,  2,  0, 66,  0,  0,  0,  0,  1,  0,  1],\n",
              "       [ 1,  1,  0,  0,  2, 64,  0,  3,  0,  0,  0,  1],\n",
              "       [ 2,  0,  0,  2,  0,  0, 62,  0,  2,  0,  4,  0],\n",
              "       [ 0,  4,  0,  0,  0,  1,  0, 61,  1,  4,  0,  1],\n",
              "       [ 0,  1,  2,  0,  0,  0,  0,  0, 69,  0,  0,  0],\n",
              "       [ 0,  0,  0,  1,  2,  0,  0,  1,  1, 67,  0,  0],\n",
              "       [ 1,  0,  0,  1,  0,  1,  3,  0,  0,  0, 65,  1],\n",
              "       [ 0,  1,  0,  0,  0,  0,  1,  0,  1,  0,  0, 69]])"
            ]
          },
          "metadata": {},
          "execution_count": 60
        }
      ]
    },
    {
      "cell_type": "code",
      "source": [
        "import matplotlib.pyplot as plt\n",
        "import seaborn as sns"
      ],
      "metadata": {
        "id": "Q03gmldR7W4G"
      },
      "execution_count": 69,
      "outputs": []
    },
    {
      "cell_type": "code",
      "source": [
        "plt.figure(figsize=(9, 9))\n",
        "sns.heatmap(cm, annot=True, fmt='0.3f', linewidth=0.5, square=True, cbar=False)\n",
        "plt.xlabel('Predicted values')\n",
        "plt.ylabel('Actual values')\n",
        "plt.show()"
      ],
      "metadata": {
        "colab": {
          "base_uri": "https://localhost:8080/",
          "height": 551
        },
        "id": "P6TBmLgb7zSs",
        "outputId": "7479c6e1-462b-4bc0-baf1-ce6060fa04cc"
      },
      "execution_count": 72,
      "outputs": [
        {
          "output_type": "display_data",
          "data": {
            "text/plain": [
              "<Figure size 648x648 with 1 Axes>"
            ],
            "image/png": "[encoded data removed]"
          },
          "metadata": {
            "needs_background": "light"
          }
        }
      ]
    }
  ],
  "metadata": {
    "colab": {
      "provenance": [],
      "collapsed_sections": [
        "CytbPRmWp4im"
      ]
    },
    "kernelspec": {
      "display_name": "Python 3",
      "name": "python3"
    },
    "language_info": {
      "name": "python"
    },
    "accelerator": "GPU",
    "gpuClass": "standard"
  },
  "nbformat": 4,
  "nbformat_minor": 0
}